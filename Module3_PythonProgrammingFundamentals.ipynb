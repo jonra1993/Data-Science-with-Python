{
  "nbformat": 4,
  "nbformat_minor": 0,
  "metadata": {
    "colab": {
      "name": "Module3-PythonProgrammingFundamentals.ipynb",
      "provenance": [],
      "collapsed_sections": [],
      "authorship_tag": "ABX9TyPiEVo31GOdoSW1rh3zWLYu",
      "include_colab_link": true
    },
    "kernelspec": {
      "name": "python3",
      "display_name": "Python 3"
    }
  },
  "cells": [
    {
      "cell_type": "markdown",
      "metadata": {
        "id": "view-in-github",
        "colab_type": "text"
      },
      "source": [
        "<a href=\"https://colab.research.google.com/github/jonra1993/Python-for-Data-Science-IBM/blob/master/Module3_PythonProgrammingFundamentals.ipynb\" target=\"_parent\"><img src=\"https://colab.research.google.com/assets/colab-badge.svg\" alt=\"Open In Colab\"/></a>"
      ]
    },
    {
      "cell_type": "markdown",
      "metadata": {
        "id": "tD1M25XPeTRd",
        "colab_type": "text"
      },
      "source": [
        "# Python Programming Fundamentals\n",
        "\n"
      ]
    },
    {
      "cell_type": "markdown",
      "metadata": {
        "id": "dsF_dK3sexjP",
        "colab_type": "text"
      },
      "source": [
        "## **1. Conditions and Branching**"
      ]
    },
    {
      "cell_type": "markdown",
      "metadata": {
        "id": "SPt3EOKWfyRu",
        "colab_type": "text"
      },
      "source": [
        "**Comparison Operators**\n",
        "\n",
        "\n"
      ]
    },
    {
      "cell_type": "code",
      "metadata": {
        "id": "JlvXQ7Ehfx7u",
        "colab_type": "code",
        "colab": {
          "base_uri": "https://localhost:8080/",
          "height": 51
        },
        "outputId": "47d151fb-f77d-4bd4-e0c5-50e4e2ea3f2c"
      },
      "source": [
        "# Equal\n",
        "\n",
        "a = 6\n",
        "print('a == 7: ', a == 7)\n",
        "print('a == 6: ', a == 6)"
      ],
      "execution_count": 5,
      "outputs": [
        {
          "output_type": "stream",
          "text": [
            "a == 7:  False\n",
            "a == 6:  True\n"
          ],
          "name": "stdout"
        }
      ]
    },
    {
      "cell_type": "code",
      "metadata": {
        "id": "7T9Nib21g5js",
        "colab_type": "code",
        "colab": {
          "base_uri": "https://localhost:8080/",
          "height": 51
        },
        "outputId": "1f227540-a35c-4234-be6b-bc8de3dedff4"
      },
      "source": [
        "# Inequal\n",
        "\n",
        "a = \"Hi\"\n",
        "print('a != Hi: ', a != 'Hi')\n",
        "print('a != Low: ', a != 'Low')"
      ],
      "execution_count": 9,
      "outputs": [
        {
          "output_type": "stream",
          "text": [
            "a != Hi:  False\n",
            "a != Low:  True\n"
          ],
          "name": "stdout"
        }
      ]
    },
    {
      "cell_type": "code",
      "metadata": {
        "id": "FXIFM4zfgUP6",
        "colab_type": "code",
        "colab": {
          "base_uri": "https://localhost:8080/",
          "height": 51
        },
        "outputId": "d5d3f174-b981-4349-9902-35861bc8f839"
      },
      "source": [
        "# Greater than and Equal or Greater than\n",
        "\n",
        "a = 6\n",
        "print('a > 7: ', a > 7)\n",
        "print('a >= 6: ', a >= 6)"
      ],
      "execution_count": 6,
      "outputs": [
        {
          "output_type": "stream",
          "text": [
            "a > 7:  False\n",
            "a >= 6:  True\n"
          ],
          "name": "stdout"
        }
      ]
    },
    {
      "cell_type": "code",
      "metadata": {
        "id": "5WDoGOw_gqJT",
        "colab_type": "code",
        "colab": {
          "base_uri": "https://localhost:8080/",
          "height": 51
        },
        "outputId": "ba8e4b24-934a-4885-8714-99694a288145"
      },
      "source": [
        "# Lower than and Equal or Lowe than\n",
        "\n",
        "a = 6\n",
        "print('a < 7: ', a < 7)\n",
        "print('a <= 6: ', a <= 6)"
      ],
      "execution_count": 7,
      "outputs": [
        {
          "output_type": "stream",
          "text": [
            "a < 7:  True\n",
            "a <= 6:  True\n"
          ],
          "name": "stdout"
        }
      ]
    },
    {
      "cell_type": "markdown",
      "metadata": {
        "id": "tzPeuN4rhdpO",
        "colab_type": "text"
      },
      "source": [
        "**If statement**\n"
      ]
    },
    {
      "cell_type": "code",
      "metadata": {
        "id": "ogTXCRDqhoPY",
        "colab_type": "code",
        "colab": {
          "base_uri": "https://localhost:8080/",
          "height": 34
        },
        "outputId": "a039cf57-821f-4edf-d109-0b19d4d6dbe0"
      },
      "source": [
        "# If statement\n",
        "age = 18\n",
        "\n",
        "if age >= 18:\n",
        "  print('You can go to the concert')\n",
        "else:\n",
        "  print('You can not go to the concert')"
      ],
      "execution_count": 11,
      "outputs": [
        {
          "output_type": "stream",
          "text": [
            "You can go to the concert\n"
          ],
          "name": "stdout"
        }
      ]
    },
    {
      "cell_type": "markdown",
      "metadata": {
        "id": "vsQXtt-3iJ9u",
        "colab_type": "text"
      },
      "source": [
        "**Elif statement**\n"
      ]
    },
    {
      "cell_type": "code",
      "metadata": {
        "id": "WMaGS79KiN1U",
        "colab_type": "code",
        "colab": {
          "base_uri": "https://localhost:8080/",
          "height": 34
        },
        "outputId": "90b0b769-60e6-4acf-9c78-10e6b8abcb74"
      },
      "source": [
        "# Elif statement\n",
        "age = 17\n",
        "\n",
        "if age >= 18:\n",
        "  print('You can go to the concert')\n",
        "elif age >= 16 and age < 18:\n",
        "  print('You should wait and go to the movies')  \n",
        "elif age < 5 or age > 50:\n",
        "  print('This is not for you')\n",
        "elif not(age):\n",
        "  print('Empty age')     \n",
        "else:\n",
        "  print('You can not go to the concert')"
      ],
      "execution_count": 16,
      "outputs": [
        {
          "output_type": "stream",
          "text": [
            "You should wait and go to the movies\n"
          ],
          "name": "stdout"
        }
      ]
    },
    {
      "cell_type": "markdown",
      "metadata": {
        "id": "SrnBSWUZfM8p",
        "colab_type": "text"
      },
      "source": [
        "## **2. Loops**"
      ]
    },
    {
      "cell_type": "markdown",
      "metadata": {
        "id": "mDijuDPPkPCN",
        "colab_type": "text"
      },
      "source": [
        "**Range** creates a sequence\n",
        "\n"
      ]
    },
    {
      "cell_type": "code",
      "metadata": {
        "id": "9ZtEnsLpjlJ0",
        "colab_type": "code",
        "colab": {
          "base_uri": "https://localhost:8080/",
          "height": 51
        },
        "outputId": "5d44dc7d-b699-4125-ab77-af7851db4a54"
      },
      "source": [
        "# Range functions\n",
        "\n",
        "r = range(5)\n",
        "print(list(r))\n",
        "type(r)"
      ],
      "execution_count": 27,
      "outputs": [
        {
          "output_type": "stream",
          "text": [
            "[0, 1, 2, 3, 4]\n"
          ],
          "name": "stdout"
        },
        {
          "output_type": "execute_result",
          "data": {
            "text/plain": [
              "range"
            ]
          },
          "metadata": {
            "tags": []
          },
          "execution_count": 27
        }
      ]
    },
    {
      "cell_type": "code",
      "metadata": {
        "id": "vO2Ki8IzkBNl",
        "colab_type": "code",
        "colab": {
          "base_uri": "https://localhost:8080/",
          "height": 51
        },
        "outputId": "efdcff58-ef80-4dc3-b60d-2b6ebfaead46"
      },
      "source": [
        "# Create range\n",
        "print(list(range(2,7)))\n",
        "print(list(range(2,7,2)))"
      ],
      "execution_count": 26,
      "outputs": [
        {
          "output_type": "stream",
          "text": [
            "[2, 3, 4, 5, 6]\n",
            "[2, 4, 6]\n"
          ],
          "name": "stdout"
        }
      ]
    },
    {
      "cell_type": "markdown",
      "metadata": {
        "id": "OUEYZ7Rpksw9",
        "colab_type": "text"
      },
      "source": [
        "**For**"
      ]
    },
    {
      "cell_type": "code",
      "metadata": {
        "id": "eKMpOUwJkvdu",
        "colab_type": "code",
        "colab": {
          "base_uri": "https://localhost:8080/",
          "height": 85
        },
        "outputId": "f94400d3-dc7f-4bf4-c53c-53f6742d72de"
      },
      "source": [
        "# For example\n",
        "\n",
        "colors = ['red', 'blue', 'green', 'yellow']\n",
        "\n",
        "for color in colors:\n",
        "  print(color)\n"
      ],
      "execution_count": 29,
      "outputs": [
        {
          "output_type": "stream",
          "text": [
            "red\n",
            "blue\n",
            "green\n",
            "yellow\n"
          ],
          "name": "stdout"
        }
      ]
    },
    {
      "cell_type": "code",
      "metadata": {
        "id": "lUmYhqj4lJDi",
        "colab_type": "code",
        "colab": {
          "base_uri": "https://localhost:8080/",
          "height": 51
        },
        "outputId": "49c95d8c-a79e-483e-b9ec-3eb969990aa3"
      },
      "source": [
        "# For using range\n",
        "\n",
        "colors = ['red', 'blue', 'green', 'yellow']\n",
        "\n",
        "for i in range(2):\n",
        "  print(colors[i])"
      ],
      "execution_count": 32,
      "outputs": [
        {
          "output_type": "stream",
          "text": [
            "red\n",
            "blue\n"
          ],
          "name": "stdout"
        }
      ]
    },
    {
      "cell_type": "code",
      "metadata": {
        "id": "25yGYwNNleXv",
        "colab_type": "code",
        "colab": {
          "base_uri": "https://localhost:8080/",
          "height": 34
        },
        "outputId": "223266dc-27b9-4972-cd39-ae14efd26525"
      },
      "source": [
        "# For using list\n",
        "\n",
        "colors = ['red', 'blue', 'green', 'yellow']\n",
        "\n",
        "for i in list(range(1,2)):\n",
        "  colors[i] = 'white'\n",
        "  print(colors[i])"
      ],
      "execution_count": 35,
      "outputs": [
        {
          "output_type": "stream",
          "text": [
            "white\n"
          ],
          "name": "stdout"
        }
      ]
    },
    {
      "cell_type": "code",
      "metadata": {
        "id": "J-go3sMil59A",
        "colab_type": "code",
        "colab": {
          "base_uri": "https://localhost:8080/",
          "height": 153
        },
        "outputId": "46e31c2c-ca46-4fdd-9284-b994ba2d7301"
      },
      "source": [
        "# Enumerate\n",
        "\n",
        "colors = ['red', 'blue', 'green', 'yellow']\n",
        "\n",
        "for i, color in enumerate(colors):\n",
        "  print(colors[i])\n",
        "  print(i)"
      ],
      "execution_count": 37,
      "outputs": [
        {
          "output_type": "stream",
          "text": [
            "red\n",
            "0\n",
            "blue\n",
            "1\n",
            "green\n",
            "2\n",
            "yellow\n",
            "3\n"
          ],
          "name": "stdout"
        }
      ]
    },
    {
      "cell_type": "markdown",
      "metadata": {
        "id": "stikoNddmVpN",
        "colab_type": "text"
      },
      "source": [
        "**While**"
      ]
    },
    {
      "cell_type": "code",
      "metadata": {
        "id": "UyXkUM7rmYWT",
        "colab_type": "code",
        "colab": {
          "base_uri": "https://localhost:8080/",
          "height": 34
        },
        "outputId": "84b9939a-436c-4642-9f36-68d83f650bbd"
      },
      "source": [
        "# While loops\n",
        "\n",
        "colors = ['red', 'blue', 'green', 'yellow']\n",
        "new_colors = []\n",
        "i = 0\n",
        "\n",
        "while colors[i] != 'green':\n",
        "  new_colors.append(colors[i])\n",
        "  #print(colors[i])\n",
        "  i = i + 1\n",
        "\n",
        "print(new_colors)"
      ],
      "execution_count": 42,
      "outputs": [
        {
          "output_type": "stream",
          "text": [
            "['red', 'blue']\n"
          ],
          "name": "stdout"
        }
      ]
    },
    {
      "cell_type": "markdown",
      "metadata": {
        "id": "tcyKDvyJfS3x",
        "colab_type": "text"
      },
      "source": [
        "## **3. Functions**"
      ]
    },
    {
      "cell_type": "code",
      "metadata": {
        "id": "K7qpE45SnzxY",
        "colab_type": "code",
        "colab": {}
      },
      "source": [
        "def sum_f(number1, number2):\n",
        "  add = number1 + number2\n",
        "  return add"
      ],
      "execution_count": 54,
      "outputs": []
    },
    {
      "cell_type": "code",
      "metadata": {
        "id": "22IK18bln-GF",
        "colab_type": "code",
        "colab": {
          "base_uri": "https://localhost:8080/",
          "height": 34
        },
        "outputId": "fc2be64e-f5f1-471b-9516-1bba3c18128f"
      },
      "source": [
        "print(sum_f(2,4))"
      ],
      "execution_count": 55,
      "outputs": [
        {
          "output_type": "stream",
          "text": [
            "6\n"
          ],
          "name": "stdout"
        }
      ]
    },
    {
      "cell_type": "code",
      "metadata": {
        "id": "56mOnw8RqKDV",
        "colab_type": "code",
        "colab": {
          "base_uri": "https://localhost:8080/",
          "height": 85
        },
        "outputId": "0f1a9823-6042-49b1-f108-6bf1b735bd81"
      },
      "source": [
        "def print_names(album_list):\n",
        "  for i, album in enumerate(album_list):\n",
        "    print(i, album)\n",
        "\n",
        "my_album_list = ['A', 'B', 'C', 'D']\n",
        "print_names(my_album_list)\n"
      ],
      "execution_count": 57,
      "outputs": [
        {
          "output_type": "stream",
          "text": [
            "0 A\n",
            "1 B\n",
            "2 C\n",
            "3 D\n"
          ],
          "name": "stdout"
        }
      ]
    },
    {
      "cell_type": "code",
      "metadata": {
        "id": "pn00ybl7oVn1",
        "colab_type": "code",
        "colab": {
          "base_uri": "https://localhost:8080/",
          "height": 34
        },
        "outputId": "6db46da7-32c4-4d4b-8fd6-6277abe2eafd"
      },
      "source": [
        "# len function\n",
        "\n",
        "a = [1, 2, 3, 5, 6]\n",
        "len(a)"
      ],
      "execution_count": 45,
      "outputs": [
        {
          "output_type": "execute_result",
          "data": {
            "text/plain": [
              "5"
            ]
          },
          "metadata": {
            "tags": []
          },
          "execution_count": 45
        }
      ]
    },
    {
      "cell_type": "code",
      "metadata": {
        "id": "cOyC1qRoojlF",
        "colab_type": "code",
        "colab": {
          "base_uri": "https://localhost:8080/",
          "height": 34
        },
        "outputId": "6805dc20-02cb-4b75-bd96-420b1c9d45ad"
      },
      "source": [
        "# sum function\n",
        "\n",
        "b = [1, 2, 3, 5]\n",
        "sum(b)"
      ],
      "execution_count": 48,
      "outputs": [
        {
          "output_type": "execute_result",
          "data": {
            "text/plain": [
              "11"
            ]
          },
          "metadata": {
            "tags": []
          },
          "execution_count": 48
        }
      ]
    },
    {
      "cell_type": "code",
      "metadata": {
        "id": "toQI_myRo6Dj",
        "colab_type": "code",
        "colab": {
          "base_uri": "https://localhost:8080/",
          "height": 34
        },
        "outputId": "65cad168-e181-48b8-b5b6-b3d24a471131"
      },
      "source": [
        "# sorted function (creates a new list or tuple)\n",
        "\n",
        "b = [5, 2, 10, 50]\n",
        "sorted(b)"
      ],
      "execution_count": 50,
      "outputs": [
        {
          "output_type": "execute_result",
          "data": {
            "text/plain": [
              "[2, 5, 10, 50]"
            ]
          },
          "metadata": {
            "tags": []
          },
          "execution_count": 50
        }
      ]
    },
    {
      "cell_type": "code",
      "metadata": {
        "id": "l4GWevYVpdWv",
        "colab_type": "code",
        "colab": {
          "base_uri": "https://localhost:8080/",
          "height": 34
        },
        "outputId": "c9287cab-b78a-4e2c-8893-6259adb41625"
      },
      "source": [
        "# sort function (edit same variable)\n",
        "\n",
        "b = [5, 2, 10, 50]\n",
        "b.sort()\n",
        "print(b)"
      ],
      "execution_count": 53,
      "outputs": [
        {
          "output_type": "stream",
          "text": [
            "[2, 5, 10, 50]\n"
          ],
          "name": "stdout"
        }
      ]
    },
    {
      "cell_type": "code",
      "metadata": {
        "id": "GzdQ_NoUsfu_",
        "colab_type": "code",
        "colab": {
          "base_uri": "https://localhost:8080/",
          "height": 34
        },
        "outputId": "986a4eb0-293b-478f-b5f9-b1840b979907"
      },
      "source": [
        "# reverse function (edit same variable)\n",
        "\n",
        "b = [5, 2, 10, 50]\n",
        "b.reverse()\n",
        "print(b)"
      ],
      "execution_count": 58,
      "outputs": [
        {
          "output_type": "stream",
          "text": [
            "[50, 10, 2, 5]\n"
          ],
          "name": "stdout"
        }
      ]
    },
    {
      "cell_type": "markdown",
      "metadata": {
        "id": "wjJoh0j-fWF7",
        "colab_type": "text"
      },
      "source": [
        "## **4. Objects and Classes**"
      ]
    },
    {
      "cell_type": "markdown",
      "metadata": {
        "id": "D9CKgRCuryjY",
        "colab_type": "text"
      },
      "source": [
        "Every object has a type, an internal blueprint and a set of methods.\n",
        "\n",
        "An object is an instance of a particular type of class"
      ]
    },
    {
      "cell_type": "code",
      "metadata": {
        "id": "xPb8zwizsFpO",
        "colab_type": "code",
        "colab": {
          "base_uri": "https://localhost:8080/",
          "height": 547
        },
        "outputId": "0cdc3cd7-4791-4547-b01b-2a5812b6fe0d"
      },
      "source": [
        "# Example of class\n",
        "\n",
        "# Import the library\n",
        "\n",
        "import matplotlib.pyplot as plt\n",
        "%matplotlib inline\n",
        "\n",
        "class Car(object):\n",
        "    def __init__(self,make,model,color):\n",
        "        self.make=make;\n",
        "        self.model=model;\n",
        "        self.color=color;\n",
        "        self.owner_number=0 \n",
        "    def car_info(self):\n",
        "        print(\"make: \",self.make)\n",
        "        print(\"model:\", self.model)\n",
        "        print(\"color:\",self.color)\n",
        "        print(\"number of owners:\",self.owner_number)\n",
        "    def sell(self):\n",
        "        self.owner_number=self.owner_number+1\n",
        "\n",
        "class Circle(object):\n",
        "  def __init__(self, radius, color):\n",
        "    self.radius = radius\n",
        "    self.color = color\n",
        "\n",
        "  def add_radius(self, r):\n",
        "    self.radius = radius + r\n",
        "\n",
        "  # Method\n",
        "  def drawCircle(self):\n",
        "      plt.gca().add_patch(plt.Circle((0, 0), radius=self.radius, fc=self.color))\n",
        "      plt.axis('scaled')\n",
        "      plt.show()  \n",
        "\n",
        "circle1 = Circle(2.1, 'yellow')  \n",
        "type(circle1)\n",
        "circle1.color = 'blue'\n",
        "print(circle1.radius)\n",
        "print(circle1.color)\n",
        "circle1.drawCircle()\n",
        "\n",
        "red_circle = Circle(1.1, 'red')  \n",
        "red_circle.drawCircle()\n",
        "\n",
        "\n"
      ],
      "execution_count": 70,
      "outputs": [
        {
          "output_type": "stream",
          "text": [
            "2.1\n",
            "blue\n"
          ],
          "name": "stdout"
        },
        {
          "output_type": "display_data",
          "data": {
            "image/png": "[encoded data removed]",
            "text/plain": [
              "<Figure size 432x288 with 1 Axes>"
            ]
          },
          "metadata": {
            "tags": [],
            "needs_background": "light"
          }
        },
        {
          "output_type": "display_data",
          "data": {
            "image/png": "[encoded data removed]",
            "text/plain": [
              "<Figure size 432x288 with 1 Axes>"
            ]
          },
          "metadata": {
            "tags": [],
            "needs_background": "light"
          }
        }
      ]
    },
    {
      "cell_type": "code",
      "metadata": {
        "id": "5a3NvS9rtQSY",
        "colab_type": "code",
        "colab": {
          "base_uri": "https://localhost:8080/",
          "height": 265
        },
        "outputId": "22deacad-7891-43c4-dd52-4d74a961eab0"
      },
      "source": [
        "# Create a new Rectangle class for creating a rectangle object\n",
        "\n",
        "class Rectangle(object):\n",
        "    \n",
        "    # Constructor\n",
        "    def __init__(self, width=2, height=3, color='r'):\n",
        "        self.height = height \n",
        "        self.width = width\n",
        "        self.color = color\n",
        "    \n",
        "    # Method\n",
        "    def drawRectangle(self):\n",
        "        plt.gca().add_patch(plt.Rectangle((0, 0), self.width, self.height ,fc=self.color))\n",
        "        plt.axis('scaled')\n",
        "        plt.show()\n",
        "\n",
        "yellow_rectangle = Rectangle(1.1, 3, 'yellow')  \n",
        "yellow_rectangle.drawRectangle()"
      ],
      "execution_count": 71,
      "outputs": [
        {
          "output_type": "display_data",
          "data": {
            "image/png": "[encoded data removed]",
            "text/plain": [
              "<Figure size 432x288 with 1 Axes>"
            ]
          },
          "metadata": {
            "tags": [],
            "needs_background": "light"
          }
        }
      ]
    },
    {
      "cell_type": "code",
      "metadata": {
        "id": "2uSj1Vsfwm_v",
        "colab_type": "code",
        "colab": {}
      },
      "source": [
        ""
      ],
      "execution_count": null,
      "outputs": []
    }
  ]
}