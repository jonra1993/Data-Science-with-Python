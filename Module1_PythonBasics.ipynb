{
  "nbformat": 4,
  "nbformat_minor": 0,
  "metadata": {
    "colab": {
      "name": "Module1-PythonBasics.ipynb",
      "provenance": [],
      "authorship_tag": "ABX9TyNmNZBInV52ETlKo7JYjk6p",
      "include_colab_link": true
    },
    "kernelspec": {
      "name": "python3",
      "display_name": "Python 3"
    }
  },
  "cells": [
    {
      "cell_type": "markdown",
      "metadata": {
        "id": "view-in-github",
        "colab_type": "text"
      },
      "source": [
        "<a href=\"https://colab.research.google.com/github/jonra1993/Python-for-Data-Science-IBM/blob/master/Module1_PythonBasics.ipynb\" target=\"_parent\"><img src=\"https://colab.research.google.com/assets/colab-badge.svg\" alt=\"Open In Colab\"/></a>"
      ]
    },
    {
      "cell_type": "markdown",
      "metadata": {
        "id": "EQYyp7XkRV5N",
        "colab_type": "text"
      },
      "source": [
        "#**Python Basics**"
      ]
    },
    {
      "cell_type": "markdown",
      "metadata": {
        "id": "BL5hyfoqRD-l",
        "colab_type": "text"
      },
      "source": [
        "## **1. Your First Program**\n",
        "\n"
      ]
    },
    {
      "cell_type": "code",
      "metadata": {
        "id": "PQwkIKHARUiN",
        "colab_type": "code",
        "colab": {}
      },
      "source": [
        ""
      ],
      "execution_count": null,
      "outputs": []
    }
  ]
}