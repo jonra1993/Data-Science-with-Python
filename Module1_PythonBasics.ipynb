{
  "nbformat": 4,
  "nbformat_minor": 0,
  "metadata": {
    "colab": {
      "name": "Module1-PythonBasics.ipynb",
      "provenance": [],
      "authorship_tag": "ABX9TyO1n2BSj40R29TJ0JTfiW1B",
      "include_colab_link": true
    },
    "kernelspec": {
      "name": "python3",
      "display_name": "Python 3"
    }
  },
  "cells": [
    {
      "cell_type": "markdown",
      "metadata": {
        "id": "view-in-github",
        "colab_type": "text"
      },
      "source": [
        "<a href=\"https://colab.research.google.com/github/jonra1993/Python-for-Data-Science-IBM/blob/master/Module1_PythonBasics.ipynb\" target=\"_parent\"><img src=\"https://colab.research.google.com/assets/colab-badge.svg\" alt=\"Open In Colab\"/></a>"
      ]
    },
    {
      "cell_type": "markdown",
      "metadata": {
        "id": "EQYyp7XkRV5N",
        "colab_type": "text"
      },
      "source": [
        "#**Python Basics**"
      ]
    },
    {
      "cell_type": "markdown",
      "metadata": {
        "id": "BL5hyfoqRD-l",
        "colab_type": "text"
      },
      "source": [
        "## **1. Your First Program**\n",
        "\n"
      ]
    },
    {
      "cell_type": "code",
      "metadata": {
        "id": "PQwkIKHARUiN",
        "colab_type": "code",
        "colab": {
          "base_uri": "https://localhost:8080/",
          "height": 34
        },
        "outputId": "5a8e675b-a562-4cdb-93b6-2d167fe088ab"
      },
      "source": [
        "# This statement in cell, prints a message\n",
        "print(\"Hello I am Jonathan, Welcome to Python3\")"
      ],
      "execution_count": 2,
      "outputs": [
        {
          "output_type": "stream",
          "text": [
            "Hello I am Jonathan, Welcome to Python3\n"
          ],
          "name": "stdout"
        }
      ]
    },
    {
      "cell_type": "code",
      "metadata": {
        "id": "D8cbl_PaSGeJ",
        "colab_type": "code",
        "colab": {}
      },
      "source": [
        ""
      ],
      "execution_count": null,
      "outputs": []
    },
    {
      "cell_type": "markdown",
      "metadata": {
        "colab_type": "text",
        "id": "FYTEix6YSm3D"
      },
      "source": [
        "## **2. Types of Data**\n",
        "\n"
      ]
    },
    {
      "cell_type": "markdown",
      "metadata": {
        "id": "FAoXO9qkUEAa",
        "colab_type": "text"
      },
      "source": [
        "Main Data typea"
      ]
    },
    {
      "cell_type": "code",
      "metadata": {
        "id": "GI2mRYIFSvs_",
        "colab_type": "code",
        "colab": {}
      },
      "source": [
        "# Integers (int)\n",
        "integer = 11\n",
        "# Real numbers (float)\n",
        "real = 2.14\n",
        "# Words or strings (str)\n",
        "my_string = \"Hello\"\n",
        "# Boolean\n",
        "bool_value_true = True\n",
        "bool_value1_false = False"
      ],
      "execution_count": 13,
      "outputs": []
    },
    {
      "cell_type": "code",
      "metadata": {
        "id": "KdP7vPMPTEmq",
        "colab_type": "code",
        "colab": {
          "base_uri": "https://localhost:8080/",
          "height": 85
        },
        "outputId": "3a307804-6495-4f4a-ae98-81125e0ba080"
      },
      "source": [
        "# Print data type\n",
        "print(type(-11))\n",
        "print(type(2.14))\n",
        "print(type(\"Hello\"))\n",
        "print(type(True))"
      ],
      "execution_count": 14,
      "outputs": [
        {
          "output_type": "stream",
          "text": [
            "<class 'int'>\n",
            "<class 'float'>\n",
            "<class 'str'>\n",
            "<class 'bool'>\n"
          ],
          "name": "stdout"
        }
      ]
    },
    {
      "cell_type": "markdown",
      "metadata": {
        "id": "FPJqsbHKT2-q",
        "colab_type": "text"
      },
      "source": [
        "Type Casting\n",
        "(It is the process of changing one type of data into another)"
      ]
    },
    {
      "cell_type": "code",
      "metadata": {
        "id": "Wxo90odmThea",
        "colab_type": "code",
        "colab": {
          "base_uri": "https://localhost:8080/",
          "height": 34
        },
        "outputId": "be35d381-e0a6-4533-84fe-22e8caa77288"
      },
      "source": [
        "# Into float\n",
        "float(2)"
      ],
      "execution_count": 7,
      "outputs": [
        {
          "output_type": "execute_result",
          "data": {
            "text/plain": [
              "2.0"
            ]
          },
          "metadata": {
            "tags": []
          },
          "execution_count": 7
        }
      ]
    },
    {
      "cell_type": "code",
      "metadata": {
        "id": "27nuPwePT9Pq",
        "colab_type": "code",
        "colab": {
          "base_uri": "https://localhost:8080/",
          "height": 34
        },
        "outputId": "b80799c5-3299-4fe6-c0f5-851ba07b9f2b"
      },
      "source": [
        "# Float into int (You cna lose some information due to decimal part)\n",
        "int(1.1)"
      ],
      "execution_count": 9,
      "outputs": [
        {
          "output_type": "execute_result",
          "data": {
            "text/plain": [
              "1"
            ]
          },
          "metadata": {
            "tags": []
          },
          "execution_count": 9
        }
      ]
    },
    {
      "cell_type": "code",
      "metadata": {
        "id": "0LApdCk8UbNR",
        "colab_type": "code",
        "colab": {
          "base_uri": "https://localhost:8080/",
          "height": 34
        },
        "outputId": "a97fea00-0670-4f37-b641-72adae5f46f7"
      },
      "source": [
        "# String into int \n",
        "int('2')"
      ],
      "execution_count": 10,
      "outputs": [
        {
          "output_type": "execute_result",
          "data": {
            "text/plain": [
              "2"
            ]
          },
          "metadata": {
            "tags": []
          },
          "execution_count": 10
        }
      ]
    },
    {
      "cell_type": "code",
      "metadata": {
        "id": "ZdMkfqnhUpST",
        "colab_type": "code",
        "colab": {
          "base_uri": "https://localhost:8080/",
          "height": 51
        },
        "outputId": "80b0585d-8441-4261-9397-db4c66c23369"
      },
      "source": [
        "# Float and int into string\n",
        "print(str(2.2))\n",
        "print(str(1))\n"
      ],
      "execution_count": 12,
      "outputs": [
        {
          "output_type": "stream",
          "text": [
            "2.2\n",
            "1\n"
          ],
          "name": "stdout"
        }
      ]
    },
    {
      "cell_type": "code",
      "metadata": {
        "id": "BH5hiou0U2-I",
        "colab_type": "code",
        "colab": {}
      },
      "source": [
        ""
      ],
      "execution_count": null,
      "outputs": []
    },
    {
      "cell_type": "markdown",
      "metadata": {
        "id": "XVhHdXqUV_Hu",
        "colab_type": "text"
      },
      "source": [
        ""
      ]
    },
    {
      "cell_type": "markdown",
      "metadata": {
        "colab_type": "text",
        "id": "OfpYnE-HWB-v"
      },
      "source": [
        "### **3. Expressions and Variables**\n",
        "\n"
      ]
    },
    {
      "cell_type": "code",
      "metadata": {
        "id": "AXX82A9uWIBv",
        "colab_type": "code",
        "colab": {}
      },
      "source": [
        ""
      ],
      "execution_count": null,
      "outputs": []
    }
  ]
}