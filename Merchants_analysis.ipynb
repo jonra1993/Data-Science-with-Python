{
  "nbformat": 4,
  "nbformat_minor": 0,
  "metadata": {
    "colab": {
      "name": "Merchants_analysis.ipynb",
      "provenance": [],
      "authorship_tag": "ABX9TyPbZ5Z0yL39AxT/atLEoAOi",
      "include_colab_link": true
    },
    "kernelspec": {
      "name": "python3",
      "display_name": "Python 3"
    }
  },
  "cells": [
    {
      "cell_type": "markdown",
      "metadata": {
        "id": "view-in-github",
        "colab_type": "text"
      },
      "source": [
        "<a href=\"https://colab.research.google.com/github/jonra1993/Data-Science-with-Python/blob/master/Merchants_analysis.ipynb\" target=\"_parent\"><img src=\"https://colab.research.google.com/assets/colab-badge.svg\" alt=\"Open In Colab\"/></a>"
      ]
    },
    {
      "cell_type": "code",
      "metadata": {
        "id": "x-7ekEmLfgx0",
        "colab_type": "code",
        "colab": {}
      },
      "source": [
        ""
      ],
      "execution_count": null,
      "outputs": []
    },
    {
      "cell_type": "markdown",
      "metadata": {
        "id": "6eGF87TyllSC",
        "colab_type": "text"
      },
      "source": [
        "**Import Data**"
      ]
    },
    {
      "cell_type": "code",
      "metadata": {
        "id": "yHlN9VOWlnzz",
        "colab_type": "code",
        "colab": {}
      },
      "source": [
        "import pandas as pd\n",
        "import matplotlib.pylab as plt\n",
        "import numpy as np\n",
        "\n",
        "filename = \"https://raw.githubusercontent.com/jonra1993/Data-Science-with-Python/master/Datasets/Merchants.csv\"\n",
        "df = pd.read_csv(filename)"
      ],
      "execution_count": null,
      "outputs": []
    },
    {
      "cell_type": "markdown",
      "metadata": {
        "id": "d2T-573ynacM",
        "colab_type": "text"
      },
      "source": [
        "Shows the first 5 rows\n",
        "\n",
        "\n"
      ]
    },
    {
      "cell_type": "code",
      "metadata": {
        "id": "Ur83k272luUD",
        "colab_type": "code",
        "colab": {
          "base_uri": "https://localhost:8080/",
          "height": 598
        },
        "outputId": "504fdcde-029f-42a2-dfad-f9a7562c2e94"
      },
      "source": [
        "df.head()"
      ],
      "execution_count": null,
      "outputs": [
        {
          "output_type": "execute_result",
          "data": {
            "text/html": [
              "<div>\n",
              "<style scoped>\n",
              "    .dataframe tbody tr th:only-of-type {\n",
              "        vertical-align: middle;\n",
              "    }\n",
              "\n",
              "    .dataframe tbody tr th {\n",
              "        vertical-align: top;\n",
              "    }\n",
              "\n",
              "    .dataframe thead th {\n",
              "        text-align: right;\n",
              "    }\n",
              "</style>\n",
              "<table border=\"1\" class=\"dataframe\">\n",
              "  <thead>\n",
              "    <tr style=\"text-align: right;\">\n",
              "      <th></th>\n",
              "      <th>Fecha</th>\n",
              "      <th>Hora</th>\n",
              "      <th>Nombre negocio</th>\n",
              "      <th>Ciudad</th>\n",
              "      <th>Dirección</th>\n",
              "      <th>método de entrega</th>\n",
              "      <th>método de entrega.1</th>\n",
              "      <th>Plan</th>\n",
              "      <th>Tipo de negocio</th>\n",
              "      <th>Cómo llegaron</th>\n",
              "      <th>Problemas de COVID</th>\n",
              "    </tr>\n",
              "  </thead>\n",
              "  <tbody>\n",
              "    <tr>\n",
              "      <th>0</th>\n",
              "      <td>15 mayo 2020</td>\n",
              "      <td>12:00</td>\n",
              "      <td>VIP SOLUTIONS</td>\n",
              "      <td>Quito</td>\n",
              "      <td>Unión y Progreso Oe4451 y Domingo Segura</td>\n",
              "      <td>Entregas a domicilio</td>\n",
              "      <td>NaN</td>\n",
              "      <td>Gratuito</td>\n",
              "      <td>Minimarket</td>\n",
              "      <td>NaN</td>\n",
              "      <td>menor cantidad de ventas</td>\n",
              "    </tr>\n",
              "    <tr>\n",
              "      <th>1</th>\n",
              "      <td>16 mayo 2020</td>\n",
              "      <td>13:00</td>\n",
              "      <td>Zapatos para niños y adultos</td>\n",
              "      <td>Quito</td>\n",
              "      <td>Entrada de Carapungo Av Padre Luis Vaccari, ca...</td>\n",
              "      <td>Entregas a domicilio</td>\n",
              "      <td>NaN</td>\n",
              "      <td>Gratuito</td>\n",
              "      <td>Emprendimientos</td>\n",
              "      <td>NaN</td>\n",
              "      <td>NaN</td>\n",
              "    </tr>\n",
              "    <tr>\n",
              "      <th>2</th>\n",
              "      <td>17 mayo 2020</td>\n",
              "      <td>14:00</td>\n",
              "      <td>Distribuidora OZ</td>\n",
              "      <td>Quito</td>\n",
              "      <td>Carcelén</td>\n",
              "      <td>Entregas a domicilio</td>\n",
              "      <td>Servicio para llevar (Preparas el pedido y van...</td>\n",
              "      <td>Gratuito</td>\n",
              "      <td>Minimarket</td>\n",
              "      <td>NaN</td>\n",
              "      <td>No puedo trabajar en mi área.</td>\n",
              "    </tr>\n",
              "    <tr>\n",
              "      <th>3</th>\n",
              "      <td>18 mayo 2020</td>\n",
              "      <td>15:00</td>\n",
              "      <td>SUPERMARKET LAS ORQUIDEAS</td>\n",
              "      <td>Portoviejo</td>\n",
              "      <td>Las Orquideas diagonal la parque plr la canchas</td>\n",
              "      <td>Entregas a domicilio</td>\n",
              "      <td>NaN</td>\n",
              "      <td>Gratuito</td>\n",
              "      <td>Minimarket</td>\n",
              "      <td>NaN</td>\n",
              "      <td>Han bajado las ventas</td>\n",
              "    </tr>\n",
              "    <tr>\n",
              "      <th>4</th>\n",
              "      <td>19 mayo 2020</td>\n",
              "      <td>16:00</td>\n",
              "      <td>Endulzando Paladares</td>\n",
              "      <td>Quito</td>\n",
              "      <td>General Paya Oe8-162 y Alahuela</td>\n",
              "      <td>Entregas a domicilio</td>\n",
              "      <td>NaN</td>\n",
              "      <td>Gratuito</td>\n",
              "      <td>Emprendimientos</td>\n",
              "      <td>NaN</td>\n",
              "      <td>Dificultad de promocionar y llevar los productos.</td>\n",
              "    </tr>\n",
              "  </tbody>\n",
              "</table>\n",
              "</div>"
            ],
            "text/plain": [
              "          Fecha  ...                                 Problemas de COVID\n",
              "0  15 mayo 2020  ...                           menor cantidad de ventas\n",
              "1  16 mayo 2020  ...                                                NaN\n",
              "2  17 mayo 2020  ...                      No puedo trabajar en mi área.\n",
              "3  18 mayo 2020  ...                              Han bajado las ventas\n",
              "4  19 mayo 2020  ...  Dificultad de promocionar y llevar los productos.\n",
              "\n",
              "[5 rows x 11 columns]"
            ]
          },
          "metadata": {
            "tags": []
          },
          "execution_count": 58
        }
      ]
    },
    {
      "cell_type": "markdown",
      "metadata": {
        "id": "qNM5tKPmn2_i",
        "colab_type": "text"
      },
      "source": [
        "Shows the last 2 rows"
      ]
    },
    {
      "cell_type": "code",
      "metadata": {
        "id": "6BLOWpFrnhF2",
        "colab_type": "code",
        "colab": {
          "base_uri": "https://localhost:8080/",
          "height": 318
        },
        "outputId": "a1403a98-7993-493b-8387-17d156af85ca"
      },
      "source": [
        "df.tail(2)"
      ],
      "execution_count": null,
      "outputs": [
        {
          "output_type": "execute_result",
          "data": {
            "text/html": [
              "<div>\n",
              "<style scoped>\n",
              "    .dataframe tbody tr th:only-of-type {\n",
              "        vertical-align: middle;\n",
              "    }\n",
              "\n",
              "    .dataframe tbody tr th {\n",
              "        vertical-align: top;\n",
              "    }\n",
              "\n",
              "    .dataframe thead th {\n",
              "        text-align: right;\n",
              "    }\n",
              "</style>\n",
              "<table border=\"1\" class=\"dataframe\">\n",
              "  <thead>\n",
              "    <tr style=\"text-align: right;\">\n",
              "      <th></th>\n",
              "      <th>Fecha</th>\n",
              "      <th>Hora</th>\n",
              "      <th>Nombre negocio</th>\n",
              "      <th>Ciudad</th>\n",
              "      <th>Dirección</th>\n",
              "      <th>método de entrega</th>\n",
              "      <th>método de entrega.1</th>\n",
              "      <th>Plan</th>\n",
              "      <th>Tipo de negocio</th>\n",
              "      <th>Cómo llegaron</th>\n",
              "      <th>Problemas de COVID</th>\n",
              "    </tr>\n",
              "  </thead>\n",
              "  <tbody>\n",
              "    <tr>\n",
              "      <th>120</th>\n",
              "      <td>25 junio 2020</td>\n",
              "      <td>13:29</td>\n",
              "      <td>Venta de helados al por mayor y menor</td>\n",
              "      <td>Quito</td>\n",
              "      <td>Pasaje S11C S14-30 y Pasaje OE5V</td>\n",
              "      <td>Entregas a domicilio</td>\n",
              "      <td>Servicio para llevar (Preparas el pedido y van...</td>\n",
              "      <td>Gratuito</td>\n",
              "      <td>Emprendimientos</td>\n",
              "      <td>Whatsapp</td>\n",
              "      <td>No generando ingresos</td>\n",
              "    </tr>\n",
              "    <tr>\n",
              "      <th>121</th>\n",
              "      <td>25 junio 2020</td>\n",
              "      <td>21:38</td>\n",
              "      <td>Jan Coffee &amp; Food Station</td>\n",
              "      <td>QUITO</td>\n",
              "      <td>JOSE TAMAYO N21- 220 Y VICENTE RAMON ROCA</td>\n",
              "      <td>Entregas a domicilio</td>\n",
              "      <td>Servicio para llevar (Preparas el pedido y van...</td>\n",
              "      <td>Gratuito</td>\n",
              "      <td>Emprendimientos</td>\n",
              "      <td>Whatsapp</td>\n",
              "      <td>TERRIBLE ESTA PRACTICAMENTE CERRADO PERO QUIER...</td>\n",
              "    </tr>\n",
              "  </tbody>\n",
              "</table>\n",
              "</div>"
            ],
            "text/plain": [
              "             Fecha  ...                                 Problemas de COVID\n",
              "120  25 junio 2020  ...                             No generando ingresos \n",
              "121  25 junio 2020  ...  TERRIBLE ESTA PRACTICAMENTE CERRADO PERO QUIER...\n",
              "\n",
              "[2 rows x 11 columns]"
            ]
          },
          "metadata": {
            "tags": []
          },
          "execution_count": 37
        }
      ]
    },
    {
      "cell_type": "code",
      "metadata": {
        "id": "34QVqJCkn7fz",
        "colab_type": "code",
        "colab": {
          "base_uri": "https://localhost:8080/",
          "height": 85
        },
        "outputId": "06bb983c-4235-4d8b-e08b-67954ca319d3"
      },
      "source": [
        "df.columns"
      ],
      "execution_count": null,
      "outputs": [
        {
          "output_type": "execute_result",
          "data": {
            "text/plain": [
              "Index(['Fecha', 'Hora', 'Nombre negocio', 'Ciudad', 'Dirección',\n",
              "       'método de entrega', 'método de entrega.1', 'Plan', 'Tipo de negocio',\n",
              "       'Cómo llegaron', 'Problemas de COVID'],\n",
              "      dtype='object')"
            ]
          },
          "metadata": {
            "tags": []
          },
          "execution_count": 12
        }
      ]
    },
    {
      "cell_type": "markdown",
      "metadata": {
        "id": "H4jEoqDrpKy1",
        "colab_type": "text"
      },
      "source": [
        "Edit headers"
      ]
    },
    {
      "cell_type": "code",
      "metadata": {
        "id": "16PG_-eOoJ9a",
        "colab_type": "code",
        "colab": {}
      },
      "source": [
        "new_headers = ['date', 'time', 'business_name', 'city', 'address', 'delivery_method1', 'delivery_method2', 'plan', 'business_type', 'where_they_come_from', 'covid_problems']"
      ],
      "execution_count": null,
      "outputs": []
    },
    {
      "cell_type": "code",
      "metadata": {
        "id": "h8H5xhBro-L7",
        "colab_type": "code",
        "colab": {
          "base_uri": "https://localhost:8080/",
          "height": 284
        },
        "outputId": "fdc1ec96-7582-4617-869d-183cab9cf8db"
      },
      "source": [
        "df.columns = new_headers\n",
        "df.head(2)"
      ],
      "execution_count": null,
      "outputs": [
        {
          "output_type": "execute_result",
          "data": {
            "text/html": [
              "<div>\n",
              "<style scoped>\n",
              "    .dataframe tbody tr th:only-of-type {\n",
              "        vertical-align: middle;\n",
              "    }\n",
              "\n",
              "    .dataframe tbody tr th {\n",
              "        vertical-align: top;\n",
              "    }\n",
              "\n",
              "    .dataframe thead th {\n",
              "        text-align: right;\n",
              "    }\n",
              "</style>\n",
              "<table border=\"1\" class=\"dataframe\">\n",
              "  <thead>\n",
              "    <tr style=\"text-align: right;\">\n",
              "      <th></th>\n",
              "      <th>date</th>\n",
              "      <th>time</th>\n",
              "      <th>business_name</th>\n",
              "      <th>city</th>\n",
              "      <th>address</th>\n",
              "      <th>delivery_method1</th>\n",
              "      <th>delivery_method2</th>\n",
              "      <th>plan</th>\n",
              "      <th>business_type</th>\n",
              "      <th>where_they_come_from</th>\n",
              "      <th>covid_problems</th>\n",
              "    </tr>\n",
              "  </thead>\n",
              "  <tbody>\n",
              "    <tr>\n",
              "      <th>0</th>\n",
              "      <td>15 mayo 2020</td>\n",
              "      <td>12:00</td>\n",
              "      <td>VIP SOLUTIONS</td>\n",
              "      <td>Quito</td>\n",
              "      <td>Unión y Progreso Oe4451 y Domingo Segura</td>\n",
              "      <td>Entregas a domicilio</td>\n",
              "      <td>NaN</td>\n",
              "      <td>Gratuito</td>\n",
              "      <td>Minimarket</td>\n",
              "      <td>NaN</td>\n",
              "      <td>menor cantidad de ventas</td>\n",
              "    </tr>\n",
              "    <tr>\n",
              "      <th>1</th>\n",
              "      <td>16 mayo 2020</td>\n",
              "      <td>13:00</td>\n",
              "      <td>Zapatos para niños y adultos</td>\n",
              "      <td>Quito</td>\n",
              "      <td>Entrada de Carapungo Av Padre Luis Vaccari, ca...</td>\n",
              "      <td>Entregas a domicilio</td>\n",
              "      <td>NaN</td>\n",
              "      <td>Gratuito</td>\n",
              "      <td>Emprendimientos</td>\n",
              "      <td>NaN</td>\n",
              "      <td>NaN</td>\n",
              "    </tr>\n",
              "  </tbody>\n",
              "</table>\n",
              "</div>"
            ],
            "text/plain": [
              "           date   time  ... where_they_come_from            covid_problems\n",
              "0  15 mayo 2020  12:00  ...                  NaN  menor cantidad de ventas\n",
              "1  16 mayo 2020  13:00  ...                  NaN                       NaN\n",
              "\n",
              "[2 rows x 11 columns]"
            ]
          },
          "metadata": {
            "tags": []
          },
          "execution_count": 89
        }
      ]
    },
    {
      "cell_type": "markdown",
      "metadata": {
        "id": "mlmdiMCzpbh4",
        "colab_type": "text"
      },
      "source": [
        "Check data types"
      ]
    },
    {
      "cell_type": "code",
      "metadata": {
        "id": "T1k4F04qpGXz",
        "colab_type": "code",
        "colab": {
          "base_uri": "https://localhost:8080/",
          "height": 221
        },
        "outputId": "e0c2a594-7cb5-4024-a90c-b515c28ead6d"
      },
      "source": [
        "df.dtypes"
      ],
      "execution_count": null,
      "outputs": [
        {
          "output_type": "execute_result",
          "data": {
            "text/plain": [
              "date                    object\n",
              "time                    object\n",
              "business_name           object\n",
              "city                    object\n",
              "address                 object\n",
              "delivery_method1        object\n",
              "delivery_method2        object\n",
              "plan                    object\n",
              "business_type           object\n",
              "where_they_come_from    object\n",
              "covid_problems          object\n",
              "dtype: object"
            ]
          },
          "metadata": {
            "tags": []
          },
          "execution_count": 17
        }
      ]
    },
    {
      "cell_type": "markdown",
      "metadata": {
        "id": "ij71SrZzrZkL",
        "colab_type": "text"
      },
      "source": [
        "Convert date and tiem into date type (solve correct conversion)"
      ]
    },
    {
      "cell_type": "code",
      "metadata": {
        "id": "aI3g9OeRpaeK",
        "colab_type": "code",
        "colab": {}
      },
      "source": [
        "import locale\n",
        "\n",
        "#df['date'] = pd.to_datetime(df['date'], format= '%d %m %y')\n",
        "#df['time'] = pd.to_datetime(df['time'], format= '%h:%m', errors='ignore')\n",
        "#df['time'] = df['time'].astype('datetime64[ns]')"
      ],
      "execution_count": null,
      "outputs": []
    },
    {
      "cell_type": "code",
      "metadata": {
        "id": "CZp01byAqjAI",
        "colab_type": "code",
        "colab": {
          "base_uri": "https://localhost:8080/",
          "height": 221
        },
        "outputId": "b18eccc0-ae6f-48fe-9408-a3ec921b91c4"
      },
      "source": [
        "df.dtypes"
      ],
      "execution_count": null,
      "outputs": [
        {
          "output_type": "execute_result",
          "data": {
            "text/plain": [
              "date                            object\n",
              "time                    datetime64[ns]\n",
              "business_name                   object\n",
              "city                            object\n",
              "address                         object\n",
              "delivery_method1                object\n",
              "delivery_method2                object\n",
              "plan                            object\n",
              "business_type                   object\n",
              "where_they_come_from            object\n",
              "covid_problems                  object\n",
              "dtype: object"
            ]
          },
          "metadata": {
            "tags": []
          },
          "execution_count": 53
        }
      ]
    },
    {
      "cell_type": "markdown",
      "metadata": {
        "id": "znCXA_elr8Vk",
        "colab_type": "text"
      },
      "source": [
        "**Statistical Summary**"
      ]
    },
    {
      "cell_type": "code",
      "metadata": {
        "id": "75PW5fLZrM7d",
        "colab_type": "code",
        "colab": {}
      },
      "source": [
        "# This does not work good with no number data\n",
        "df.describe()"
      ],
      "execution_count": null,
      "outputs": []
    },
    {
      "cell_type": "code",
      "metadata": {
        "id": "DgAG29BmsB7B",
        "colab_type": "code",
        "colab": {
          "base_uri": "https://localhost:8080/",
          "height": 530
        },
        "outputId": "fce48e03-31a3-4824-b55d-1c6197531ef2"
      },
      "source": [
        "df.head(5)"
      ],
      "execution_count": null,
      "outputs": [
        {
          "output_type": "execute_result",
          "data": {
            "text/html": [
              "<div>\n",
              "<style scoped>\n",
              "    .dataframe tbody tr th:only-of-type {\n",
              "        vertical-align: middle;\n",
              "    }\n",
              "\n",
              "    .dataframe tbody tr th {\n",
              "        vertical-align: top;\n",
              "    }\n",
              "\n",
              "    .dataframe thead th {\n",
              "        text-align: right;\n",
              "    }\n",
              "</style>\n",
              "<table border=\"1\" class=\"dataframe\">\n",
              "  <thead>\n",
              "    <tr style=\"text-align: right;\">\n",
              "      <th></th>\n",
              "      <th>date</th>\n",
              "      <th>time</th>\n",
              "      <th>business_name</th>\n",
              "      <th>city</th>\n",
              "      <th>address</th>\n",
              "      <th>delivery_method1</th>\n",
              "      <th>delivery_method2</th>\n",
              "      <th>plan</th>\n",
              "      <th>business_type</th>\n",
              "      <th>where_they_come_from</th>\n",
              "      <th>covid_problems</th>\n",
              "    </tr>\n",
              "  </thead>\n",
              "  <tbody>\n",
              "    <tr>\n",
              "      <th>0</th>\n",
              "      <td>15 mayo 2020</td>\n",
              "      <td>2020-06-26 12:00:00</td>\n",
              "      <td>VIP SOLUTIONS</td>\n",
              "      <td>Quito</td>\n",
              "      <td>Unión y Progreso Oe4451 y Domingo Segura</td>\n",
              "      <td>Entregas a domicilio</td>\n",
              "      <td>NaN</td>\n",
              "      <td>Gratuito</td>\n",
              "      <td>Minimarket</td>\n",
              "      <td>NaN</td>\n",
              "      <td>menor cantidad de ventas</td>\n",
              "    </tr>\n",
              "    <tr>\n",
              "      <th>1</th>\n",
              "      <td>16 mayo 2020</td>\n",
              "      <td>2020-06-26 13:00:00</td>\n",
              "      <td>Zapatos para niños y adultos</td>\n",
              "      <td>Quito</td>\n",
              "      <td>Entrada de Carapungo Av Padre Luis Vaccari, ca...</td>\n",
              "      <td>Entregas a domicilio</td>\n",
              "      <td>NaN</td>\n",
              "      <td>Gratuito</td>\n",
              "      <td>Emprendimientos</td>\n",
              "      <td>NaN</td>\n",
              "      <td>NaN</td>\n",
              "    </tr>\n",
              "    <tr>\n",
              "      <th>2</th>\n",
              "      <td>17 mayo 2020</td>\n",
              "      <td>2020-06-26 14:00:00</td>\n",
              "      <td>Distribuidora OZ</td>\n",
              "      <td>Quito</td>\n",
              "      <td>Carcelén</td>\n",
              "      <td>Entregas a domicilio</td>\n",
              "      <td>Servicio para llevar (Preparas el pedido y van...</td>\n",
              "      <td>Gratuito</td>\n",
              "      <td>Minimarket</td>\n",
              "      <td>NaN</td>\n",
              "      <td>No puedo trabajar en mi área.</td>\n",
              "    </tr>\n",
              "    <tr>\n",
              "      <th>3</th>\n",
              "      <td>18 mayo 2020</td>\n",
              "      <td>2020-06-26 15:00:00</td>\n",
              "      <td>SUPERMARKET LAS ORQUIDEAS</td>\n",
              "      <td>Portoviejo</td>\n",
              "      <td>Las Orquideas diagonal la parque plr la canchas</td>\n",
              "      <td>Entregas a domicilio</td>\n",
              "      <td>NaN</td>\n",
              "      <td>Gratuito</td>\n",
              "      <td>Minimarket</td>\n",
              "      <td>NaN</td>\n",
              "      <td>Han bajado las ventas</td>\n",
              "    </tr>\n",
              "    <tr>\n",
              "      <th>4</th>\n",
              "      <td>19 mayo 2020</td>\n",
              "      <td>2020-06-26 16:00:00</td>\n",
              "      <td>Endulzando Paladares</td>\n",
              "      <td>Quito</td>\n",
              "      <td>General Paya Oe8-162 y Alahuela</td>\n",
              "      <td>Entregas a domicilio</td>\n",
              "      <td>NaN</td>\n",
              "      <td>Gratuito</td>\n",
              "      <td>Emprendimientos</td>\n",
              "      <td>NaN</td>\n",
              "      <td>Dificultad de promocionar y llevar los productos.</td>\n",
              "    </tr>\n",
              "  </tbody>\n",
              "</table>\n",
              "</div>"
            ],
            "text/plain": [
              "           date  ...                                     covid_problems\n",
              "0  15 mayo 2020  ...                           menor cantidad de ventas\n",
              "1  16 mayo 2020  ...                                                NaN\n",
              "2  17 mayo 2020  ...                      No puedo trabajar en mi área.\n",
              "3  18 mayo 2020  ...                              Han bajado las ventas\n",
              "4  19 mayo 2020  ...  Dificultad de promocionar y llevar los productos.\n",
              "\n",
              "[5 rows x 11 columns]"
            ]
          },
          "metadata": {
            "tags": []
          },
          "execution_count": 55
        }
      ]
    },
    {
      "cell_type": "markdown",
      "metadata": {
        "id": "oaGjhnFr4F7z",
        "colab_type": "text"
      },
      "source": [
        "Convert city in lower case"
      ]
    },
    {
      "cell_type": "code",
      "metadata": {
        "id": "k9ERcYHi4ILR",
        "colab_type": "code",
        "colab": {}
      },
      "source": [
        "df['city'] = df['city'].str.lower()"
      ],
      "execution_count": null,
      "outputs": []
    },
    {
      "cell_type": "markdown",
      "metadata": {
        "id": "RlSdfuq7t5SK",
        "colab_type": "text"
      },
      "source": [
        "1.   Replace empty values in **delivery_method1**\tcolumn\n",
        "2.   Replace empty values in **where_they_come_from**\tcolumn\n",
        "3.   Replace empty values in **delivery_method**\tcolumn\n",
        "\n",
        "\n",
        "\n"
      ]
    },
    {
      "cell_type": "code",
      "metadata": {
        "id": "mzG7eAxEtSlY",
        "colab_type": "code",
        "colab": {}
      },
      "source": [
        "df['delivery_method1'] = df['delivery_method1'].replace(np.nan, 'No a domicilio')\n",
        "df['delivery_method2'] = df['delivery_method2'].replace(np.nan, 'No para llevar')\n",
        "df['where_they_come_from'] = df['where_they_come_from'].replace(np.nan, 'No indica')\n",
        "df['covid_problems'] = df['covid_problems'].replace(np.nan, 'No indica')"
      ],
      "execution_count": null,
      "outputs": []
    },
    {
      "cell_type": "markdown",
      "metadata": {
        "id": "gd5vIYbTzVxr",
        "colab_type": "text"
      },
      "source": [
        "Converting categorical data into quantitative variables \"**one-hot encoding**\""
      ]
    },
    {
      "cell_type": "code",
      "metadata": {
        "id": "o8863hnqvIA8",
        "colab_type": "code",
        "colab": {
          "base_uri": "https://localhost:8080/",
          "height": 456
        },
        "outputId": "29b64e59-5626-4d07-9572-5eec0c96b500"
      },
      "source": [
        "pd.get_dummies(df['delivery_method1'])\n",
        "pd.get_dummies(df['delivery_method2'])\n",
        "pd.get_dummies(df['plan'])\n",
        "pd.get_dummies(df['business_type'])\n",
        "pd.get_dummies(df['city'])"
      ],
      "execution_count": null,
      "outputs": [
        {
          "output_type": "execute_result",
          "data": {
            "text/html": [
              "<div>\n",
              "<style scoped>\n",
              "    .dataframe tbody tr th:only-of-type {\n",
              "        vertical-align: middle;\n",
              "    }\n",
              "\n",
              "    .dataframe tbody tr th {\n",
              "        vertical-align: top;\n",
              "    }\n",
              "\n",
              "    .dataframe thead th {\n",
              "        text-align: right;\n",
              "    }\n",
              "</style>\n",
              "<table border=\"1\" class=\"dataframe\">\n",
              "  <thead>\n",
              "    <tr style=\"text-align: right;\">\n",
              "      <th></th>\n",
              "      <th>ambato</th>\n",
              "      <th>cayambe</th>\n",
              "      <th>cuenca</th>\n",
              "      <th>cumbaya</th>\n",
              "      <th>guayaquil</th>\n",
              "      <th>latacunga</th>\n",
              "      <th>loja</th>\n",
              "      <th>manta</th>\n",
              "      <th>portoviejo</th>\n",
              "      <th>portoviejo</th>\n",
              "      <th>puerto ayora</th>\n",
              "      <th>quito</th>\n",
              "      <th>quito</th>\n",
              "      <th>sangolqui</th>\n",
              "      <th>tosagua</th>\n",
              "    </tr>\n",
              "  </thead>\n",
              "  <tbody>\n",
              "    <tr>\n",
              "      <th>0</th>\n",
              "      <td>0</td>\n",
              "      <td>0</td>\n",
              "      <td>0</td>\n",
              "      <td>0</td>\n",
              "      <td>0</td>\n",
              "      <td>0</td>\n",
              "      <td>0</td>\n",
              "      <td>0</td>\n",
              "      <td>0</td>\n",
              "      <td>0</td>\n",
              "      <td>0</td>\n",
              "      <td>1</td>\n",
              "      <td>0</td>\n",
              "      <td>0</td>\n",
              "      <td>0</td>\n",
              "    </tr>\n",
              "    <tr>\n",
              "      <th>1</th>\n",
              "      <td>0</td>\n",
              "      <td>0</td>\n",
              "      <td>0</td>\n",
              "      <td>0</td>\n",
              "      <td>0</td>\n",
              "      <td>0</td>\n",
              "      <td>0</td>\n",
              "      <td>0</td>\n",
              "      <td>0</td>\n",
              "      <td>0</td>\n",
              "      <td>0</td>\n",
              "      <td>1</td>\n",
              "      <td>0</td>\n",
              "      <td>0</td>\n",
              "      <td>0</td>\n",
              "    </tr>\n",
              "    <tr>\n",
              "      <th>2</th>\n",
              "      <td>0</td>\n",
              "      <td>0</td>\n",
              "      <td>0</td>\n",
              "      <td>0</td>\n",
              "      <td>0</td>\n",
              "      <td>0</td>\n",
              "      <td>0</td>\n",
              "      <td>0</td>\n",
              "      <td>0</td>\n",
              "      <td>0</td>\n",
              "      <td>0</td>\n",
              "      <td>1</td>\n",
              "      <td>0</td>\n",
              "      <td>0</td>\n",
              "      <td>0</td>\n",
              "    </tr>\n",
              "    <tr>\n",
              "      <th>3</th>\n",
              "      <td>0</td>\n",
              "      <td>0</td>\n",
              "      <td>0</td>\n",
              "      <td>0</td>\n",
              "      <td>0</td>\n",
              "      <td>0</td>\n",
              "      <td>0</td>\n",
              "      <td>0</td>\n",
              "      <td>1</td>\n",
              "      <td>0</td>\n",
              "      <td>0</td>\n",
              "      <td>0</td>\n",
              "      <td>0</td>\n",
              "      <td>0</td>\n",
              "      <td>0</td>\n",
              "    </tr>\n",
              "    <tr>\n",
              "      <th>4</th>\n",
              "      <td>0</td>\n",
              "      <td>0</td>\n",
              "      <td>0</td>\n",
              "      <td>0</td>\n",
              "      <td>0</td>\n",
              "      <td>0</td>\n",
              "      <td>0</td>\n",
              "      <td>0</td>\n",
              "      <td>0</td>\n",
              "      <td>0</td>\n",
              "      <td>0</td>\n",
              "      <td>1</td>\n",
              "      <td>0</td>\n",
              "      <td>0</td>\n",
              "      <td>0</td>\n",
              "    </tr>\n",
              "    <tr>\n",
              "      <th>...</th>\n",
              "      <td>...</td>\n",
              "      <td>...</td>\n",
              "      <td>...</td>\n",
              "      <td>...</td>\n",
              "      <td>...</td>\n",
              "      <td>...</td>\n",
              "      <td>...</td>\n",
              "      <td>...</td>\n",
              "      <td>...</td>\n",
              "      <td>...</td>\n",
              "      <td>...</td>\n",
              "      <td>...</td>\n",
              "      <td>...</td>\n",
              "      <td>...</td>\n",
              "      <td>...</td>\n",
              "    </tr>\n",
              "    <tr>\n",
              "      <th>117</th>\n",
              "      <td>0</td>\n",
              "      <td>0</td>\n",
              "      <td>0</td>\n",
              "      <td>0</td>\n",
              "      <td>0</td>\n",
              "      <td>0</td>\n",
              "      <td>1</td>\n",
              "      <td>0</td>\n",
              "      <td>0</td>\n",
              "      <td>0</td>\n",
              "      <td>0</td>\n",
              "      <td>0</td>\n",
              "      <td>0</td>\n",
              "      <td>0</td>\n",
              "      <td>0</td>\n",
              "    </tr>\n",
              "    <tr>\n",
              "      <th>118</th>\n",
              "      <td>0</td>\n",
              "      <td>0</td>\n",
              "      <td>0</td>\n",
              "      <td>0</td>\n",
              "      <td>0</td>\n",
              "      <td>0</td>\n",
              "      <td>0</td>\n",
              "      <td>0</td>\n",
              "      <td>0</td>\n",
              "      <td>0</td>\n",
              "      <td>0</td>\n",
              "      <td>1</td>\n",
              "      <td>0</td>\n",
              "      <td>0</td>\n",
              "      <td>0</td>\n",
              "    </tr>\n",
              "    <tr>\n",
              "      <th>119</th>\n",
              "      <td>0</td>\n",
              "      <td>0</td>\n",
              "      <td>0</td>\n",
              "      <td>0</td>\n",
              "      <td>0</td>\n",
              "      <td>0</td>\n",
              "      <td>0</td>\n",
              "      <td>0</td>\n",
              "      <td>0</td>\n",
              "      <td>0</td>\n",
              "      <td>0</td>\n",
              "      <td>1</td>\n",
              "      <td>0</td>\n",
              "      <td>0</td>\n",
              "      <td>0</td>\n",
              "    </tr>\n",
              "    <tr>\n",
              "      <th>120</th>\n",
              "      <td>0</td>\n",
              "      <td>0</td>\n",
              "      <td>0</td>\n",
              "      <td>0</td>\n",
              "      <td>0</td>\n",
              "      <td>0</td>\n",
              "      <td>0</td>\n",
              "      <td>0</td>\n",
              "      <td>0</td>\n",
              "      <td>0</td>\n",
              "      <td>0</td>\n",
              "      <td>1</td>\n",
              "      <td>0</td>\n",
              "      <td>0</td>\n",
              "      <td>0</td>\n",
              "    </tr>\n",
              "    <tr>\n",
              "      <th>121</th>\n",
              "      <td>0</td>\n",
              "      <td>0</td>\n",
              "      <td>0</td>\n",
              "      <td>0</td>\n",
              "      <td>0</td>\n",
              "      <td>0</td>\n",
              "      <td>0</td>\n",
              "      <td>0</td>\n",
              "      <td>0</td>\n",
              "      <td>0</td>\n",
              "      <td>0</td>\n",
              "      <td>1</td>\n",
              "      <td>0</td>\n",
              "      <td>0</td>\n",
              "      <td>0</td>\n",
              "    </tr>\n",
              "  </tbody>\n",
              "</table>\n",
              "<p>122 rows × 15 columns</p>\n",
              "</div>"
            ],
            "text/plain": [
              "     ambato  cayambe   cuenca  cumbaya  ...  quito  quito   sangolqui  tosagua\n",
              "0         0         0       0        0  ...      1       0          0        0\n",
              "1         0         0       0        0  ...      1       0          0        0\n",
              "2         0         0       0        0  ...      1       0          0        0\n",
              "3         0         0       0        0  ...      0       0          0        0\n",
              "4         0         0       0        0  ...      1       0          0        0\n",
              "..      ...       ...     ...      ...  ...    ...     ...        ...      ...\n",
              "117       0         0       0        0  ...      0       0          0        0\n",
              "118       0         0       0        0  ...      1       0          0        0\n",
              "119       0         0       0        0  ...      1       0          0        0\n",
              "120       0         0       0        0  ...      1       0          0        0\n",
              "121       0         0       0        0  ...      1       0          0        0\n",
              "\n",
              "[122 rows x 15 columns]"
            ]
          },
          "metadata": {
            "tags": []
          },
          "execution_count": 95
        }
      ]
    },
    {
      "cell_type": "code",
      "metadata": {
        "id": "iGegu-kozvVc",
        "colab_type": "code",
        "colab": {}
      },
      "source": [
        ""
      ],
      "execution_count": null,
      "outputs": []
    }
  ]
}