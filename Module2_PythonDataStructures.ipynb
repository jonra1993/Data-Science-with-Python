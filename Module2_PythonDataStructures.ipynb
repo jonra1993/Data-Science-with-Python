{
  "nbformat": 4,
  "nbformat_minor": 0,
  "metadata": {
    "colab": {
      "name": "Module2-PythonDataStructures.ipynb",
      "provenance": [],
      "collapsed_sections": [],
      "toc_visible": true,
      "authorship_tag": "ABX9TyM97irim5n7vSaWy8fnLJeS",
      "include_colab_link": true
    },
    "kernelspec": {
      "name": "python3",
      "display_name": "Python 3"
    }
  },
  "cells": [
    {
      "cell_type": "markdown",
      "metadata": {
        "id": "view-in-github",
        "colab_type": "text"
      },
      "source": [
        "<a href=\"https://colab.research.google.com/github/jonra1993/Python-for-Data-Science-IBM/blob/master/Module2_PythonDataStructures.ipynb\" target=\"_parent\"><img src=\"https://colab.research.google.com/assets/colab-badge.svg\" alt=\"Open In Colab\"/></a>"
      ]
    },
    {
      "cell_type": "markdown",
      "metadata": {
        "id": "EQYyp7XkRV5N",
        "colab_type": "text"
      },
      "source": [
        "#**Python Basics**"
      ]
    },
    {
      "cell_type": "markdown",
      "metadata": {
        "id": "BL5hyfoqRD-l",
        "colab_type": "text"
      },
      "source": [
        "## **1. Your First Program**\n",
        "\n"
      ]
    },
    {
      "cell_type": "code",
      "metadata": {
        "id": "PQwkIKHARUiN",
        "colab_type": "code",
        "colab": {}
      },
      "source": [
        "# This statement in cell, prints a message\n",
        "\n",
        "print(\"Hello I am Jonathan, Welcome to Python3\")"
      ],
      "execution_count": null,
      "outputs": []
    },
    {
      "cell_type": "code",
      "metadata": {
        "id": "D8cbl_PaSGeJ",
        "colab_type": "code",
        "colab": {
          "base_uri": "https://localhost:8080/",
          "height": 51
        },
        "outputId": "d1ef969d-ac17-461d-de7f-537e04416b66"
      },
      "source": [
        "# Check the Python Version\n",
        "\n",
        "import sys\n",
        "print(sys.version)"
      ],
      "execution_count": 21,
      "outputs": [
        {
          "output_type": "stream",
          "text": [
            "3.6.9 (default, Apr 18 2020, 01:56:04) \n",
            "[GCC 8.4.0]\n"
          ],
          "name": "stdout"
        }
      ]
    },
    {
      "cell_type": "code",
      "metadata": {
        "id": "i0TvCGtRZodR",
        "colab_type": "code",
        "colab": {
          "base_uri": "https://localhost:8080/",
          "height": 198
        },
        "outputId": "3aff5678-7b51-4501-f065-e5b3e02e8aba"
      },
      "source": [
        "# Print string as error message\n",
        "\n",
        "frint(\"Hello, Python!\")"
      ],
      "execution_count": 23,
      "outputs": [
        {
          "output_type": "error",
          "ename": "NameError",
          "evalue": "ignored",
          "traceback": [
            "\u001b[0;31m---------------------------------------------------------------------------\u001b[0m",
            "\u001b[0;31mNameError\u001b[0m                                 Traceback (most recent call last)",
            "\u001b[0;32m<ipython-input-23-313a1769a8a5>\u001b[0m in \u001b[0;36m<module>\u001b[0;34m()\u001b[0m\n\u001b[1;32m      1\u001b[0m \u001b[0;31m# Print string as error message\u001b[0m\u001b[0;34m\u001b[0m\u001b[0;34m\u001b[0m\u001b[0;34m\u001b[0m\u001b[0m\n\u001b[1;32m      2\u001b[0m \u001b[0;34m\u001b[0m\u001b[0m\n\u001b[0;32m----> 3\u001b[0;31m \u001b[0mfrint\u001b[0m\u001b[0;34m(\u001b[0m\u001b[0;34m\"Hello, Python!\"\u001b[0m\u001b[0;34m)\u001b[0m\u001b[0;34m\u001b[0m\u001b[0;34m\u001b[0m\u001b[0m\n\u001b[0m",
            "\u001b[0;31mNameError\u001b[0m: name 'frint' is not defined"
          ]
        }
      ]
    },
    {
      "cell_type": "markdown",
      "metadata": {
        "colab_type": "text",
        "id": "FYTEix6YSm3D"
      },
      "source": [
        "## **2. Types of Data**\n",
        "\n"
      ]
    },
    {
      "cell_type": "markdown",
      "metadata": {
        "id": "FAoXO9qkUEAa",
        "colab_type": "text"
      },
      "source": [
        "Main Data typea"
      ]
    },
    {
      "cell_type": "code",
      "metadata": {
        "id": "GI2mRYIFSvs_",
        "colab_type": "code",
        "colab": {}
      },
      "source": [
        "# Integers (int)\n",
        "integer = 11\n",
        "\n",
        "# Real numbers (float)\n",
        "real = 2.14\n",
        "\n",
        "# Words or strings (str)\n",
        "my_string = \"Hello\"\n",
        "\n",
        "# Boolean\n",
        "bool_value_true = True\n",
        "bool_value1_false = False"
      ],
      "execution_count": 13,
      "outputs": []
    },
    {
      "cell_type": "code",
      "metadata": {
        "id": "KdP7vPMPTEmq",
        "colab_type": "code",
        "colab": {
          "base_uri": "https://localhost:8080/",
          "height": 85
        },
        "outputId": "3a307804-6495-4f4a-ae98-81125e0ba080"
      },
      "source": [
        "# Print data type\n",
        "print(type(-11))\n",
        "print(type(2.14))\n",
        "print(type(\"Hello\"))\n",
        "print(type(True))"
      ],
      "execution_count": 14,
      "outputs": [
        {
          "output_type": "stream",
          "text": [
            "<class 'int'>\n",
            "<class 'float'>\n",
            "<class 'str'>\n",
            "<class 'bool'>\n"
          ],
          "name": "stdout"
        }
      ]
    },
    {
      "cell_type": "markdown",
      "metadata": {
        "id": "FPJqsbHKT2-q",
        "colab_type": "text"
      },
      "source": [
        "Type Casting\n",
        "(It is the process of changing one type of data into another)"
      ]
    },
    {
      "cell_type": "code",
      "metadata": {
        "id": "Wxo90odmThea",
        "colab_type": "code",
        "colab": {
          "base_uri": "https://localhost:8080/",
          "height": 34
        },
        "outputId": "be35d381-e0a6-4533-84fe-22e8caa77288"
      },
      "source": [
        "# Into float\n",
        "float(2)"
      ],
      "execution_count": 7,
      "outputs": [
        {
          "output_type": "execute_result",
          "data": {
            "text/plain": [
              "2.0"
            ]
          },
          "metadata": {
            "tags": []
          },
          "execution_count": 7
        }
      ]
    },
    {
      "cell_type": "code",
      "metadata": {
        "id": "27nuPwePT9Pq",
        "colab_type": "code",
        "colab": {
          "base_uri": "https://localhost:8080/",
          "height": 34
        },
        "outputId": "b80799c5-3299-4fe6-c0f5-851ba07b9f2b"
      },
      "source": [
        "# Float into int (You cna lose some information due to decimal part)\n",
        "int(1.1)"
      ],
      "execution_count": 9,
      "outputs": [
        {
          "output_type": "execute_result",
          "data": {
            "text/plain": [
              "1"
            ]
          },
          "metadata": {
            "tags": []
          },
          "execution_count": 9
        }
      ]
    },
    {
      "cell_type": "code",
      "metadata": {
        "id": "0LApdCk8UbNR",
        "colab_type": "code",
        "colab": {
          "base_uri": "https://localhost:8080/",
          "height": 34
        },
        "outputId": "a97fea00-0670-4f37-b641-72adae5f46f7"
      },
      "source": [
        "# String into int \n",
        "int('2')"
      ],
      "execution_count": 10,
      "outputs": [
        {
          "output_type": "execute_result",
          "data": {
            "text/plain": [
              "2"
            ]
          },
          "metadata": {
            "tags": []
          },
          "execution_count": 10
        }
      ]
    },
    {
      "cell_type": "code",
      "metadata": {
        "id": "ZdMkfqnhUpST",
        "colab_type": "code",
        "colab": {
          "base_uri": "https://localhost:8080/",
          "height": 51
        },
        "outputId": "80b0585d-8441-4261-9397-db4c66c23369"
      },
      "source": [
        "# Float and int into string\n",
        "print(str(2.2))\n",
        "print(str(1))\n"
      ],
      "execution_count": 12,
      "outputs": [
        {
          "output_type": "stream",
          "text": [
            "2.2\n",
            "1\n"
          ],
          "name": "stdout"
        }
      ]
    },
    {
      "cell_type": "markdown",
      "metadata": {
        "colab_type": "text",
        "id": "OfpYnE-HWB-v"
      },
      "source": [
        "## **3. Expressions and Variables**\n",
        "\n"
      ]
    },
    {
      "cell_type": "markdown",
      "metadata": {
        "id": "mCln2SwsWvve",
        "colab_type": "text"
      },
      "source": [
        "**Expressions** describe a type of operation that computers perform.\n",
        "Expressions are operations that Python performs. For example, basic arithmetic operations **like**"
      ]
    },
    {
      "cell_type": "code",
      "metadata": {
        "id": "AXX82A9uWIBv",
        "colab_type": "code",
        "colab": {
          "base_uri": "https://localhost:8080/",
          "height": 34
        },
        "outputId": "a689636e-3c2f-4a6c-e656-4607d1fdbc92"
      },
      "source": [
        "# Expression example (math symbols are called operators and numbers operands)\n",
        "2+3*5"
      ],
      "execution_count": 16,
      "outputs": [
        {
          "output_type": "execute_result",
          "data": {
            "text/plain": [
              "17"
            ]
          },
          "metadata": {
            "tags": []
          },
          "execution_count": 16
        }
      ]
    },
    {
      "cell_type": "code",
      "metadata": {
        "id": "Cbfqbj_SXEpV",
        "colab_type": "code",
        "colab": {
          "base_uri": "https://localhost:8080/",
          "height": 34
        },
        "outputId": "896f3372-30a8-4746-b58b-aa7a726abe1f"
      },
      "source": [
        "# Sum and Minus\n",
        "5+5-5+5\n"
      ],
      "execution_count": 17,
      "outputs": [
        {
          "output_type": "execute_result",
          "data": {
            "text/plain": [
              "10"
            ]
          },
          "metadata": {
            "tags": []
          },
          "execution_count": 17
        }
      ]
    },
    {
      "cell_type": "code",
      "metadata": {
        "id": "My5OlZcfXnQY",
        "colab_type": "code",
        "colab": {
          "base_uri": "https://localhost:8080/",
          "height": 51
        },
        "outputId": "e3dfdc85-5093-4e4d-8002-342b99eaa92c"
      },
      "source": [
        "# Float division and integer division\n",
        "print(7/5)\n",
        "print(7//5)"
      ],
      "execution_count": 19,
      "outputs": [
        {
          "output_type": "stream",
          "text": [
            "1.4\n",
            "1\n"
          ],
          "name": "stdout"
        }
      ]
    },
    {
      "cell_type": "markdown",
      "metadata": {
        "id": "lRQEjJeOX_Vq",
        "colab_type": "text"
      },
      "source": [
        "**Variables:** They store values.\n"
      ]
    },
    {
      "cell_type": "code",
      "metadata": {
        "id": "zUmwgt7fYHUw",
        "colab_type": "code",
        "colab": {}
      },
      "source": [
        "my_variable = 60\n",
        "other_variable = my_variable/2"
      ],
      "execution_count": 20,
      "outputs": []
    },
    {
      "cell_type": "markdown",
      "metadata": {
        "id": "d0MN-Ls1b7IJ",
        "colab_type": "text"
      },
      "source": [
        "## **4. String Operations**"
      ]
    },
    {
      "cell_type": "markdown",
      "metadata": {
        "id": "iNSugFOwcLU7",
        "colab_type": "text"
      },
      "source": [
        "A string is a sequence of characters contained within two quotes or single quotes\n"
      ]
    },
    {
      "cell_type": "code",
      "metadata": {
        "id": "sdZ4kzAPYf_Z",
        "colab_type": "code",
        "colab": {}
      },
      "source": [
        "my_string = \"Hello 123 ¢$\"\n",
        "my_string = 'Hello 123 ¬%'"
      ],
      "execution_count": 26,
      "outputs": []
    },
    {
      "cell_type": "markdown",
      "metadata": {
        "id": "yQd7D_rVsOcV",
        "colab_type": "text"
      },
      "source": [
        "**Access elements**\n",
        "Each element in the sequence of a string can be accessed using an index represented by the array of numbers."
      ]
    },
    {
      "cell_type": "code",
      "metadata": {
        "id": "i0Nbp4XucJP1",
        "colab_type": "code",
        "colab": {
          "base_uri": "https://localhost:8080/",
          "height": 34
        },
        "outputId": "6c847ecb-1913-4de3-8c31-c57e422ddc28"
      },
      "source": [
        "# Characters can be accessed using positive indexes\n",
        "\n",
        "my_string[0]"
      ],
      "execution_count": 28,
      "outputs": [
        {
          "output_type": "execute_result",
          "data": {
            "text/plain": [
              "'H'"
            ]
          },
          "metadata": {
            "tags": []
          },
          "execution_count": 28
        }
      ]
    },
    {
      "cell_type": "code",
      "metadata": {
        "id": "O0XOCAgQsZNM",
        "colab_type": "code",
        "colab": {
          "base_uri": "https://localhost:8080/",
          "height": 34
        },
        "outputId": "91284517-40e2-4add-895a-fd78ab3a61bf"
      },
      "source": [
        "# Characters can also be accessed using negative indexes\n",
        "\n",
        "my_string[-1]"
      ],
      "execution_count": 29,
      "outputs": [
        {
          "output_type": "execute_result",
          "data": {
            "text/plain": [
              "'%'"
            ]
          },
          "metadata": {
            "tags": []
          },
          "execution_count": 29
        }
      ]
    },
    {
      "cell_type": "code",
      "metadata": {
        "id": "lIdWaIrpsf-b",
        "colab_type": "code",
        "colab": {
          "base_uri": "https://localhost:8080/",
          "height": 34
        },
        "outputId": "2bf25490-d4ac-472b-802d-2184b2f52f87"
      },
      "source": [
        "# Slicing strings\n",
        "\n",
        "my_string[1:5]"
      ],
      "execution_count": 30,
      "outputs": [
        {
          "output_type": "execute_result",
          "data": {
            "text/plain": [
              "'ello'"
            ]
          },
          "metadata": {
            "tags": []
          },
          "execution_count": 30
        }
      ]
    },
    {
      "cell_type": "code",
      "metadata": {
        "id": "M_xwJ720toSv",
        "colab_type": "code",
        "colab": {
          "base_uri": "https://localhost:8080/",
          "height": 34
        },
        "outputId": "df6790e6-1a8e-4116-cde6-acdad063d79c"
      },
      "source": [
        "# Starts in index 0 and end in index -1 at step of 2\n",
        "\n",
        "my_string[::2]"
      ],
      "execution_count": 36,
      "outputs": [
        {
          "output_type": "execute_result",
          "data": {
            "text/plain": [
              "'Hlo13¬'"
            ]
          },
          "metadata": {
            "tags": []
          },
          "execution_count": 36
        }
      ]
    },
    {
      "cell_type": "code",
      "metadata": {
        "id": "9Ij9RR2EtxDA",
        "colab_type": "code",
        "colab": {
          "base_uri": "https://localhost:8080/",
          "height": 34
        },
        "outputId": "bdc817bf-07f9-4ff0-ef47-418170717b5d"
      },
      "source": [
        "# Starts in index 0 and end in index 7 at step of 2\n",
        "\n",
        "my_string[0:7:2]"
      ],
      "execution_count": 37,
      "outputs": [
        {
          "output_type": "execute_result",
          "data": {
            "text/plain": [
              "'Hlo1'"
            ]
          },
          "metadata": {
            "tags": []
          },
          "execution_count": 37
        }
      ]
    },
    {
      "cell_type": "markdown",
      "metadata": {
        "id": "XvSTr-yIuf4m",
        "colab_type": "text"
      },
      "source": [
        "**Concatenate elements**\n",
        "\n"
      ]
    },
    {
      "cell_type": "code",
      "metadata": {
        "id": "YCtHCgCTtzFh",
        "colab_type": "code",
        "colab": {
          "base_uri": "https://localhost:8080/",
          "height": 34
        },
        "outputId": "8673b79f-9ae2-452a-a12a-0cd0faa4b6a8"
      },
      "source": [
        "name = \"Jonathan\"\n",
        "my_name = \"My name is \" + name\n",
        "print(my_name)"
      ],
      "execution_count": 39,
      "outputs": [
        {
          "output_type": "stream",
          "text": [
            "My name is Jonathan\n"
          ],
          "name": "stdout"
        }
      ]
    },
    {
      "cell_type": "markdown",
      "metadata": {
        "colab_type": "text",
        "id": "CfbCdKWqu9_i"
      },
      "source": [
        "**Replicate strings**\n",
        "\n"
      ]
    },
    {
      "cell_type": "code",
      "metadata": {
        "id": "-NgzCBLguwms",
        "colab_type": "code",
        "colab": {
          "base_uri": "https://localhost:8080/",
          "height": 34
        },
        "outputId": "40a2c0e8-011e-4b92-eaf6-4832779734b9"
      },
      "source": [
        "name = \"Jonathan \"\n",
        "replicate = 3*name\n",
        "print(replicate)"
      ],
      "execution_count": 41,
      "outputs": [
        {
          "output_type": "stream",
          "text": [
            "Jonathan Jonathan Jonathan \n"
          ],
          "name": "stdout"
        }
      ]
    },
    {
      "cell_type": "markdown",
      "metadata": {
        "id": "PeuDhVSBvcAz",
        "colab_type": "text"
      },
      "source": [
        "Strings are inmutable, they can not be changed"
      ]
    },
    {
      "cell_type": "code",
      "metadata": {
        "id": "HV9iHklGvHfS",
        "colab_type": "code",
        "colab": {}
      },
      "source": [
        "name = \"Jonathan \"\n",
        "name[0] = 'Y'   #this is not allowed"
      ],
      "execution_count": null,
      "outputs": []
    },
    {
      "cell_type": "markdown",
      "metadata": {
        "colab_type": "text",
        "id": "dQjyo9vmvufR"
      },
      "source": [
        "**Escape sequences**\n",
        "\n"
      ]
    },
    {
      "cell_type": "code",
      "metadata": {
        "id": "4L6FUXp0vksJ",
        "colab_type": "code",
        "colab": {
          "base_uri": "https://localhost:8080/",
          "height": 68
        },
        "outputId": "55af40fc-21e2-45f3-b292-9f849dd30fdb"
      },
      "source": [
        "new_line = \"Jonathan \\n new line\\n\"\n",
        "new_tab = \"Jonathan \\t tab\"\n",
        "print(new_line)\n",
        "print(new_tab)\n"
      ],
      "execution_count": 45,
      "outputs": [
        {
          "output_type": "stream",
          "text": [
            "Jonathan \n",
            " new line\n",
            "Jonathan \t tab\n"
          ],
          "name": "stdout"
        }
      ]
    },
    {
      "cell_type": "markdown",
      "metadata": {
        "colab_type": "text",
        "id": "-RK2cKRZwXhn"
      },
      "source": [
        "**String Methods**\n"
      ]
    },
    {
      "cell_type": "markdown",
      "metadata": {
        "id": "dnAtiCOJwnAf",
        "colab_type": "text"
      },
      "source": [
        "They use same methods that use list and tuples and other special methods for strings"
      ]
    },
    {
      "cell_type": "markdown",
      "metadata": {
        "id": "4tVl-OxEwzwJ",
        "colab_type": "text"
      },
      "source": [
        "**Upper** Converts lower case into upper case."
      ]
    },
    {
      "cell_type": "code",
      "metadata": {
        "id": "-zQJ06nJv7gB",
        "colab_type": "code",
        "colab": {
          "base_uri": "https://localhost:8080/",
          "height": 34
        },
        "outputId": "d9689731-b6fd-4aa5-ac8d-905ca3a75dba"
      },
      "source": [
        "name = 'Jonathan'\n",
        "name_upper = name.upper()\n",
        "print(name_upper)"
      ],
      "execution_count": 46,
      "outputs": [
        {
          "output_type": "stream",
          "text": [
            "JONATHAN\n"
          ],
          "name": "stdout"
        }
      ]
    },
    {
      "cell_type": "markdown",
      "metadata": {
        "colab_type": "text",
        "id": "vfE3dQZFxVVf"
      },
      "source": [
        "**Replace:** It changes a phrase"
      ]
    },
    {
      "cell_type": "code",
      "metadata": {
        "id": "VG6i3ZfyxIcc",
        "colab_type": "code",
        "colab": {
          "base_uri": "https://localhost:8080/",
          "height": 34
        },
        "outputId": "89f1f9ba-39b4-451d-d192-2feaff5b4298"
      },
      "source": [
        "name = 'My name is Jonathan'\n",
        "replaced_name = name.replace('is', 'is not')\n",
        "print(replaced_name)"
      ],
      "execution_count": 47,
      "outputs": [
        {
          "output_type": "stream",
          "text": [
            "My name is not Jonathan\n"
          ],
          "name": "stdout"
        }
      ]
    },
    {
      "cell_type": "markdown",
      "metadata": {
        "colab_type": "text",
        "id": "lCV09PDRx8qY"
      },
      "source": [
        "**Find:** Indicates first index of sequence"
      ]
    },
    {
      "cell_type": "code",
      "metadata": {
        "id": "sQ5wcrIJxtti",
        "colab_type": "code",
        "colab": {
          "base_uri": "https://localhost:8080/",
          "height": 34
        },
        "outputId": "c98b534e-c2b5-4c4c-eb4f-97281a536f35"
      },
      "source": [
        "name = 'My name is Jonathan'\n",
        "name_find = name.find('is')\n",
        "print(name_find)"
      ],
      "execution_count": 51,
      "outputs": [
        {
          "output_type": "stream",
          "text": [
            "8\n"
          ],
          "name": "stdout"
        }
      ]
    }
  ]
}