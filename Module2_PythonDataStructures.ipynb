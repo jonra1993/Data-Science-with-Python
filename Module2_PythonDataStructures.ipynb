{
  "nbformat": 4,
  "nbformat_minor": 0,
  "metadata": {
    "colab": {
      "name": "Module2-PythonDataStructures.ipynb",
      "provenance": [],
      "collapsed_sections": [],
      "toc_visible": true,
      "authorship_tag": "ABX9TyNf6+doBFUQh/HVfjnLE2x/",
      "include_colab_link": true
    },
    "kernelspec": {
      "name": "python3",
      "display_name": "Python 3"
    }
  },
  "cells": [
    {
      "cell_type": "markdown",
      "metadata": {
        "id": "view-in-github",
        "colab_type": "text"
      },
      "source": [
        "<a href=\"https://colab.research.google.com/github/jonra1993/Python-for-Data-Science-IBM/blob/master/Module2_PythonDataStructures.ipynb\" target=\"_parent\"><img src=\"https://colab.research.google.com/assets/colab-badge.svg\" alt=\"Open In Colab\"/></a>"
      ]
    },
    {
      "cell_type": "markdown",
      "metadata": {
        "id": "EQYyp7XkRV5N",
        "colab_type": "text"
      },
      "source": [
        "#**Data Structures**"
      ]
    },
    {
      "cell_type": "markdown",
      "metadata": {
        "id": "BL5hyfoqRD-l",
        "colab_type": "text"
      },
      "source": [
        "## **1. Lists and Tuples**\n",
        "\n"
      ]
    },
    {
      "cell_type": "markdown",
      "metadata": {
        "id": "jHbwL2Un4mjw",
        "colab_type": "text"
      },
      "source": [
        "### **Tuples**"
      ]
    },
    {
      "cell_type": "markdown",
      "metadata": {
        "id": "9bZgpCRe1hh1",
        "colab_type": "text"
      },
      "source": [
        "**Tuples** are ordered sequences. They are inmutable so they can not be changed"
      ]
    },
    {
      "cell_type": "code",
      "metadata": {
        "id": "PQwkIKHARUiN",
        "colab_type": "code",
        "colab": {}
      },
      "source": [
        "# Example of tuple\n",
        "\n",
        "ratings = (1, 2, 3, 4, 5)"
      ],
      "execution_count": 52,
      "outputs": []
    },
    {
      "cell_type": "code",
      "metadata": {
        "id": "D8cbl_PaSGeJ",
        "colab_type": "code",
        "colab": {
          "base_uri": "https://localhost:8080/",
          "height": 34
        },
        "outputId": "f8c9ab28-a468-4085-9722-d6fdd7c7af81"
      },
      "source": [
        "# Type of tuples are always tuple\n",
        "\n",
        "others = ('Hello', 2, 12.1)\n",
        "print(type(others))"
      ],
      "execution_count": 54,
      "outputs": [
        {
          "output_type": "stream",
          "text": [
            "<class 'tuple'>\n"
          ],
          "name": "stdout"
        }
      ]
    },
    {
      "cell_type": "code",
      "metadata": {
        "id": "CEpfFQ-C2Hij",
        "colab_type": "code",
        "colab": {
          "base_uri": "https://localhost:8080/",
          "height": 34
        },
        "outputId": "9b944cec-796d-4b95-cf06-b8ff0be8c010"
      },
      "source": [
        "# Extarct tuple content\n",
        "\n",
        "content = ('Hello', 2, 12.1)\n",
        "print(content[2])\n"
      ],
      "execution_count": 55,
      "outputs": [
        {
          "output_type": "stream",
          "text": [
            "12.1\n"
          ],
          "name": "stdout"
        }
      ]
    },
    {
      "cell_type": "markdown",
      "metadata": {
        "id": "bb-mgxvj2lQV",
        "colab_type": "text"
      },
      "source": [
        "They can be sliced similar as lists"
      ]
    },
    {
      "cell_type": "code",
      "metadata": {
        "id": "P3pzkcq72X81",
        "colab_type": "code",
        "colab": {
          "base_uri": "https://localhost:8080/",
          "height": 34
        },
        "outputId": "bc24ba7c-af1b-4042-b55f-793329646245"
      },
      "source": [
        "content = ('Hello', 2, 12.1)\n",
        "print(content[::2])"
      ],
      "execution_count": 56,
      "outputs": [
        {
          "output_type": "stream",
          "text": [
            "('Hello', 12.1)\n"
          ],
          "name": "stdout"
        }
      ]
    },
    {
      "cell_type": "code",
      "metadata": {
        "id": "Ifa3H09o2skL",
        "colab_type": "code",
        "colab": {
          "base_uri": "https://localhost:8080/",
          "height": 34
        },
        "outputId": "2e2e261a-b7de-4d26-caae-cc576f8b8e07"
      },
      "source": [
        "# lenght of a tuple\n",
        "\n",
        "content = ('Hello', 2, 12.1)\n",
        "print(len(content))"
      ],
      "execution_count": 57,
      "outputs": [
        {
          "output_type": "stream",
          "text": [
            "3\n"
          ],
          "name": "stdout"
        }
      ]
    },
    {
      "cell_type": "code",
      "metadata": {
        "id": "yZW5yGzd23pJ",
        "colab_type": "code",
        "colab": {
          "base_uri": "https://localhost:8080/",
          "height": 34
        },
        "outputId": "27eb1109-4973-4430-dc2d-0b5f342fdd96"
      },
      "source": [
        "# sort a tuple\n",
        "\n",
        "ratings = (10, 2, 3, 7, 0)\n",
        "sorted_ratings = sorted(ratings)\n",
        "print(sorted_ratings)"
      ],
      "execution_count": 58,
      "outputs": [
        {
          "output_type": "stream",
          "text": [
            "[0, 2, 3, 7, 10]\n"
          ],
          "name": "stdout"
        }
      ]
    },
    {
      "cell_type": "markdown",
      "metadata": {
        "id": "XECXiIPV3hjw",
        "colab_type": "text"
      },
      "source": [
        "Tuples can also be nested, so they can contain other tuples."
      ]
    },
    {
      "cell_type": "code",
      "metadata": {
        "id": "o0PgR8Mh3btl",
        "colab_type": "code",
        "colab": {
          "base_uri": "https://localhost:8080/",
          "height": 51
        },
        "outputId": "792f8108-6e40-4d17-c6bb-d04b038a12ae"
      },
      "source": [
        "# Nesting\n",
        "\n",
        "ratings = (10, (2, 'Hi', 2.1, (2, 2.21)), 0)\n",
        "print('tuple: ', ratings)\n",
        "print('index: ', ratings[1][3][1])"
      ],
      "execution_count": 67,
      "outputs": [
        {
          "output_type": "stream",
          "text": [
            "tuple:  (10, (2, 'Hi', 2.1, (2, 2.21)), 0)\n",
            "index:  2.21\n"
          ],
          "name": "stdout"
        }
      ]
    },
    {
      "cell_type": "markdown",
      "metadata": {
        "colab_type": "text",
        "id": "8v4hU5314etn"
      },
      "source": [
        "### **Lists** "
      ]
    },
    {
      "cell_type": "markdown",
      "metadata": {
        "colab_type": "text",
        "id": "CY_u0_dR44FP"
      },
      "source": [
        "**Lists** are ordered sequences. They are mutable so they can be changed"
      ]
    },
    {
      "cell_type": "code",
      "metadata": {
        "id": "_RuImr2h3q3h",
        "colab_type": "code",
        "colab": {}
      },
      "source": [
        "# Example of list\n",
        "\n",
        "ratings = [1, 2, 3, 4, 5]"
      ],
      "execution_count": 68,
      "outputs": []
    },
    {
      "cell_type": "code",
      "metadata": {
        "id": "NNWXy-L05DED",
        "colab_type": "code",
        "colab": {
          "base_uri": "https://localhost:8080/",
          "height": 34
        },
        "outputId": "a7113a0e-d976-4697-abb0-43fca2ab3c6e"
      },
      "source": [
        "# Type of List are always list\n",
        "\n",
        "others = ['Hello', 2, 12.1]\n",
        "print(type(others))"
      ],
      "execution_count": 69,
      "outputs": [
        {
          "output_type": "stream",
          "text": [
            "<class 'list'>\n"
          ],
          "name": "stdout"
        }
      ]
    },
    {
      "cell_type": "code",
      "metadata": {
        "id": "nB-siu8o5Is6",
        "colab_type": "code",
        "colab": {
          "base_uri": "https://localhost:8080/",
          "height": 51
        },
        "outputId": "f9598b0c-7a01-4da2-c8cc-d4d5cf811a2a"
      },
      "source": [
        "# Nesting\n",
        "\n",
        "ratings = [10, (2, 'Hi', 2.1, [2, 2.21]), 0]\n",
        "print('tuple: ', ratings)\n",
        "print('index: ', ratings[1][3][1])"
      ],
      "execution_count": 70,
      "outputs": [
        {
          "output_type": "stream",
          "text": [
            "tuple:  [10, (2, 'Hi', 2.1, [2, 2.21]), 0]\n",
            "index:  2.21\n"
          ],
          "name": "stdout"
        }
      ]
    },
    {
      "cell_type": "code",
      "metadata": {
        "id": "KkvsDTOR5TCX",
        "colab_type": "code",
        "colab": {
          "base_uri": "https://localhost:8080/",
          "height": 34
        },
        "outputId": "a0df09b9-38c0-489f-91bc-66e7bb778a32"
      },
      "source": [
        "# Slicing\n",
        "\n",
        "ratings = [10, (2, 'Hi', 2.1, [2, 2.21]), 0]\n",
        "print('slices: ', ratings[::2])"
      ],
      "execution_count": 71,
      "outputs": [
        {
          "output_type": "stream",
          "text": [
            "slices:  [10, 0]\n"
          ],
          "name": "stdout"
        }
      ]
    },
    {
      "cell_type": "code",
      "metadata": {
        "id": "xQrGpqhl5qtO",
        "colab_type": "code",
        "colab": {
          "base_uri": "https://localhost:8080/",
          "height": 34
        },
        "outputId": "f312f39c-d2f9-4917-99ad-0c228259e606"
      },
      "source": [
        "# Extend, add new elements to list\n",
        "\n",
        "ratings = [10, (2, 'Hi', 2.1, [2, 2.21]), 0]\n",
        "ratings.extend(['pop',2])\n",
        "print(ratings)"
      ],
      "execution_count": 75,
      "outputs": [
        {
          "output_type": "stream",
          "text": [
            "[10, (2, 'Hi', 2.1, [2, 2.21]), 0, 'pop', 2]\n"
          ],
          "name": "stdout"
        }
      ]
    },
    {
      "cell_type": "code",
      "metadata": {
        "id": "Zfqz8OMh7EHS",
        "colab_type": "code",
        "colab": {
          "base_uri": "https://localhost:8080/",
          "height": 34
        },
        "outputId": "44d5350b-27ea-4bd0-9ec6-7892cd88fd60"
      },
      "source": [
        "# Append, add just a new element to list\n",
        "\n",
        "ratings = [10, (2, 'Hi', 2.1, [2, 2.21]), 0]\n",
        "ratings.append(['pop',2])\n",
        "print(ratings)"
      ],
      "execution_count": 77,
      "outputs": [
        {
          "output_type": "stream",
          "text": [
            "[10, (2, 'Hi', 2.1, [2, 2.21]), 0, ['pop', 2]]\n"
          ],
          "name": "stdout"
        }
      ]
    },
    {
      "cell_type": "code",
      "metadata": {
        "id": "5SVV4BzK7fMi",
        "colab_type": "code",
        "colab": {
          "base_uri": "https://localhost:8080/",
          "height": 34
        },
        "outputId": "e1fcf813-355f-401f-99a3-69deb01a2b3d"
      },
      "source": [
        "# Change elements\n",
        "\n",
        "ratings = [10, (2, 'Hi', 2.1, [2, 2.21]), 0]\n",
        "ratings[0]= 'Jonathan'\n",
        "print(ratings)"
      ],
      "execution_count": 78,
      "outputs": [
        {
          "output_type": "stream",
          "text": [
            "['Jonathan', (2, 'Hi', 2.1, [2, 2.21]), 0]\n"
          ],
          "name": "stdout"
        }
      ]
    },
    {
      "cell_type": "code",
      "metadata": {
        "id": "_gKPqXNC7uhT",
        "colab_type": "code",
        "colab": {
          "base_uri": "https://localhost:8080/",
          "height": 34
        },
        "outputId": "8810bae1-df24-4e35-9677-1b9a3059773c"
      },
      "source": [
        "# Delete elements\n",
        "\n",
        "ratings = [10, (2, 'Hi', 2.1, [2, 2.21]), 0]\n",
        "del(ratings[0])\n",
        "del(ratings[-1])\n",
        "print(ratings)"
      ],
      "execution_count": 80,
      "outputs": [
        {
          "output_type": "stream",
          "text": [
            "[(2, 'Hi', 2.1, [2, 2.21])]\n"
          ],
          "name": "stdout"
        }
      ]
    },
    {
      "cell_type": "code",
      "metadata": {
        "id": "90q1duwS77i0",
        "colab_type": "code",
        "colab": {
          "base_uri": "https://localhost:8080/",
          "height": 51
        },
        "outputId": "0fdddbb6-02b0-4a5c-8f4e-dbfaeb950fef"
      },
      "source": [
        "# Convert string into list\n",
        "\n",
        "name = 'Jonathan'\n",
        "name_list = name.split()\n",
        "print(name_list)\n",
        "print(type(name_list))"
      ],
      "execution_count": 81,
      "outputs": [
        {
          "output_type": "stream",
          "text": [
            "['Jonathan']\n",
            "<class 'list'>\n"
          ],
          "name": "stdout"
        }
      ]
    },
    {
      "cell_type": "code",
      "metadata": {
        "id": "xIIomnP-8R8y",
        "colab_type": "code",
        "colab": {
          "base_uri": "https://localhost:8080/",
          "height": 34
        },
        "outputId": "1b9a825f-7a28-4537-8efe-7278cf3bd092"
      },
      "source": [
        "# Separate string using delimiter\n",
        "\n",
        "name = 'J,o,n,a,t,h,a,n'\n",
        "name_list = name.split(',')\n",
        "print(name_list)"
      ],
      "execution_count": 82,
      "outputs": [
        {
          "output_type": "stream",
          "text": [
            "['J', 'o', 'n', 'a', 't', 'h', 'a', 'n']\n"
          ],
          "name": "stdout"
        }
      ]
    },
    {
      "cell_type": "code",
      "metadata": {
        "id": "BjJpmYaf8e_Z",
        "colab_type": "code",
        "colab": {
          "base_uri": "https://localhost:8080/",
          "height": 34
        },
        "outputId": "286ad061-206d-45d6-cadf-e74921c6bd99"
      },
      "source": [
        "# Aliasing (name and other_name are referencing to same object)\n",
        "\n",
        "name = ['Jonathan', 1, 3]\n",
        "other_name = name\n",
        "other_name[0] = 'yo'\n",
        "print(name)\n"
      ],
      "execution_count": 84,
      "outputs": [
        {
          "output_type": "stream",
          "text": [
            "['yo', 1, 3]\n"
          ],
          "name": "stdout"
        }
      ]
    },
    {
      "cell_type": "code",
      "metadata": {
        "id": "tcYK_aBZ8xTN",
        "colab_type": "code",
        "colab": {
          "base_uri": "https://localhost:8080/",
          "height": 34
        },
        "outputId": "7b921ff2-e2ea-4519-cf3c-ea50fbb988eb"
      },
      "source": [
        "# Clone list\n",
        "\n",
        "name = ['Jonathan', 1, 3]\n",
        "other_name = name[:]\n",
        "new_name = name.copy()\n",
        "new_name[0] = 'h' \n",
        "other_name[0] = 'yo'\n",
        "print(name)"
      ],
      "execution_count": 87,
      "outputs": [
        {
          "output_type": "stream",
          "text": [
            "['Jonathan', 1, 3]\n"
          ],
          "name": "stdout"
        }
      ]
    },
    {
      "cell_type": "code",
      "metadata": {
        "id": "Ka1wXdPt9Jed",
        "colab_type": "code",
        "colab": {}
      },
      "source": [
        "help(name)"
      ],
      "execution_count": null,
      "outputs": []
    },
    {
      "cell_type": "markdown",
      "metadata": {
        "id": "njdu541L_DIT",
        "colab_type": "text"
      },
      "source": [
        "### **Sets**"
      ]
    },
    {
      "cell_type": "markdown",
      "metadata": {
        "id": "5iOp5ZESBeA_",
        "colab_type": "text"
      },
      "source": [
        "They are a type of collection. Unlike tuples and lists, they are unordered; so they do not record element position.\n",
        "\n",
        "They only have unique elements\n"
      ]
    },
    {
      "cell_type": "code",
      "metadata": {
        "id": "PMOsf0sd_Fp8",
        "colab_type": "code",
        "colab": {
          "base_uri": "https://localhost:8080/",
          "height": 34
        },
        "outputId": "e2449c98-a270-4ed8-e110-941a097c4f98"
      },
      "source": [
        "# Create a set\n",
        "\n",
        "set1 = {'rock', 'is', 'music', 'is', 'is'}\n",
        "print(set1)"
      ],
      "execution_count": 89,
      "outputs": [
        {
          "output_type": "stream",
          "text": [
            "{'rock', 'is', 'music'}\n"
          ],
          "name": "stdout"
        }
      ]
    },
    {
      "cell_type": "code",
      "metadata": {
        "id": "7m1UiaaNCAeU",
        "colab_type": "code",
        "colab": {
          "base_uri": "https://localhost:8080/",
          "height": 68
        },
        "outputId": "5a3c73fd-7536-437c-a9f0-9793f9f3370b"
      },
      "source": [
        "# Create a set from list\n",
        "\n",
        "set1 = set(['rock', 'is', 'music', 'is', 'is'])\n",
        "set2 = set(('rock', 'is', 'music', 'is', 'is'))\n",
        "print('set from list:', set1)\n",
        "print('set from tuple:', set2)\n",
        "print(type(set1))"
      ],
      "execution_count": 92,
      "outputs": [
        {
          "output_type": "stream",
          "text": [
            "set from list: {'rock', 'is', 'music'}\n",
            "set from tuple: {'rock', 'is', 'music'}\n",
            "<class 'set'>\n"
          ],
          "name": "stdout"
        }
      ]
    },
    {
      "cell_type": "markdown",
      "metadata": {
        "id": "CT8A6tXyT_2P",
        "colab_type": "text"
      },
      "source": [
        "Set Operations"
      ]
    },
    {
      "cell_type": "code",
      "metadata": {
        "id": "TdDwyf0FCWGJ",
        "colab_type": "code",
        "colab": {
          "base_uri": "https://localhost:8080/",
          "height": 51
        },
        "outputId": "b4d0b6c4-8cac-4e0c-af9f-57a2f754d7fc"
      },
      "source": [
        "# Add items\n",
        "\n",
        "set1 = {'rock', 'is', 'music'}\n",
        "set1.add('house')\n",
        "print('set from list:', set1)\n",
        "print(type(set1))"
      ],
      "execution_count": 93,
      "outputs": [
        {
          "output_type": "stream",
          "text": [
            "set from list: {'rock', 'house', 'is', 'music'}\n",
            "<class 'set'>\n"
          ],
          "name": "stdout"
        }
      ]
    },
    {
      "cell_type": "code",
      "metadata": {
        "id": "7_y7ICc0UODQ",
        "colab_type": "code",
        "colab": {
          "base_uri": "https://localhost:8080/",
          "height": 51
        },
        "outputId": "027f8aba-85c2-4443-a6cc-bb94191a521f"
      },
      "source": [
        "# Remove items\n",
        "\n",
        "set1.remove('house')\n",
        "print('set from list:', set1)\n",
        "print(type(set1))"
      ],
      "execution_count": 94,
      "outputs": [
        {
          "output_type": "stream",
          "text": [
            "set from list: {'rock', 'is', 'music'}\n",
            "<class 'set'>\n"
          ],
          "name": "stdout"
        }
      ]
    },
    {
      "cell_type": "code",
      "metadata": {
        "id": "-iga_NorUcV1",
        "colab_type": "code",
        "colab": {
          "base_uri": "https://localhost:8080/",
          "height": 51
        },
        "outputId": "6cff3af5-eb41-4f15-dbcf-b8f887b9695f"
      },
      "source": [
        "# Check if items is in set\n",
        "\n",
        "print('rock' in set1)\n",
        "print('house' in set1)"
      ],
      "execution_count": 96,
      "outputs": [
        {
          "output_type": "stream",
          "text": [
            "True\n",
            "False\n"
          ],
          "name": "stdout"
        }
      ]
    },
    {
      "cell_type": "code",
      "metadata": {
        "id": "jDnCtrZbUxSH",
        "colab_type": "code",
        "colab": {
          "base_uri": "https://localhost:8080/",
          "height": 34
        },
        "outputId": "0fbd67a6-1756-4309-dd47-16b4e75e19e6"
      },
      "source": [
        "# Intersections of sets\n",
        "\n",
        "set1 = {'rock', 'is', 'music'}\n",
        "set2 = {'ro', 'is', 'mu'}\n",
        "print(set1 & set2)"
      ],
      "execution_count": 97,
      "outputs": [
        {
          "output_type": "stream",
          "text": [
            "{'is'}\n"
          ],
          "name": "stdout"
        }
      ]
    },
    {
      "cell_type": "code",
      "metadata": {
        "id": "wv8WDQ0JXEMy",
        "colab_type": "code",
        "colab": {
          "base_uri": "https://localhost:8080/",
          "height": 34
        },
        "outputId": "ed77e74f-bf6a-4764-804c-dc594235a60b"
      },
      "source": [
        "# Difference of sets\n",
        "\n",
        "set1 = {'rock', 'is', 'music'}\n",
        "set2 = {'ro', 'is', 'mu'}\n",
        "print(set1.difference(set2))"
      ],
      "execution_count": 103,
      "outputs": [
        {
          "output_type": "stream",
          "text": [
            "{'rock', 'music'}\n"
          ],
          "name": "stdout"
        }
      ]
    },
    {
      "cell_type": "code",
      "metadata": {
        "id": "Wejc_nlzVZ-z",
        "colab_type": "code",
        "colab": {
          "base_uri": "https://localhost:8080/",
          "height": 34
        },
        "outputId": "ae40227c-9777-4592-b50f-72952f4f94bb"
      },
      "source": [
        "# Union of sets\n",
        "\n",
        "set1 = {'rock', 'is', 'music'}\n",
        "set2 = {'ro', 'is', 'mu'}\n",
        "print(set1.union(set2))"
      ],
      "execution_count": 98,
      "outputs": [
        {
          "output_type": "stream",
          "text": [
            "{'rock', 'is', 'music', 'ro', 'mu'}\n"
          ],
          "name": "stdout"
        }
      ]
    },
    {
      "cell_type": "code",
      "metadata": {
        "id": "fsw5-aw-VwMs",
        "colab_type": "code",
        "colab": {
          "base_uri": "https://localhost:8080/",
          "height": 34
        },
        "outputId": "aacd13d9-a11f-47ad-b06c-0b9674e0df90"
      },
      "source": [
        "# Subset items\n",
        "\n",
        "set1 = {'rock', 'is', 'music'}\n",
        "set2 = {'rock', 'is'}\n",
        "print(set2.issubset(set1))"
      ],
      "execution_count": 101,
      "outputs": [
        {
          "output_type": "stream",
          "text": [
            "True\n"
          ],
          "name": "stdout"
        }
      ]
    },
    {
      "cell_type": "code",
      "metadata": {
        "id": "-9VVv8nvXebM",
        "colab_type": "code",
        "colab": {
          "base_uri": "https://localhost:8080/",
          "height": 34
        },
        "outputId": "a7cbe867-2162-4938-b99e-5d47a271674f"
      },
      "source": [
        "# Superset items\n",
        "\n",
        "set1 = {'rock', 'is', 'music'}\n",
        "set2 = {'rock', 'is'}\n",
        "print(set1.issuperset(set2))"
      ],
      "execution_count": 104,
      "outputs": [
        {
          "output_type": "stream",
          "text": [
            "True\n"
          ],
          "name": "stdout"
        }
      ]
    },
    {
      "cell_type": "markdown",
      "metadata": {
        "id": "iAb-EZ7nWxHY",
        "colab_type": "text"
      },
      "source": [
        "### **Dictionaries**"
      ]
    },
    {
      "cell_type": "markdown",
      "metadata": {
        "id": "E2Q-Aw5cYps7",
        "colab_type": "text"
      },
      "source": [
        "They are a type fo collection. They hace keys and values. The key is analogous to index"
      ]
    },
    {
      "cell_type": "code",
      "metadata": {
        "id": "qS3wLuGWW00n",
        "colab_type": "code",
        "colab": {
          "base_uri": "https://localhost:8080/",
          "height": 51
        },
        "outputId": "a40f231d-7707-44c0-96ca-4dd8b91d787d"
      },
      "source": [
        "# Create a dictionary\n",
        "\n",
        "dict1 = {'rock': 2,\n",
        "        'electronic': 3, \n",
        "        'regueton': 'music'}\n",
        "print(dict1)\n",
        "print(type(dict1))"
      ],
      "execution_count": 106,
      "outputs": [
        {
          "output_type": "stream",
          "text": [
            "{'rock': 2, 'electronic': 3, 'regueton': 'music'}\n",
            "<class 'dict'>\n"
          ],
          "name": "stdout"
        }
      ]
    },
    {
      "cell_type": "code",
      "metadata": {
        "id": "uQZ7syg3ZUoZ",
        "colab_type": "code",
        "colab": {
          "base_uri": "https://localhost:8080/",
          "height": 34
        },
        "outputId": "dc061e6f-1ba5-442f-b74b-40370b1ceea0"
      },
      "source": [
        "# Extract data from a dictionary\n",
        "\n",
        "dict1['regueton']\n"
      ],
      "execution_count": 108,
      "outputs": [
        {
          "output_type": "execute_result",
          "data": {
            "text/plain": [
              "'music'"
            ]
          },
          "metadata": {
            "tags": []
          },
          "execution_count": 108
        }
      ]
    },
    {
      "cell_type": "code",
      "metadata": {
        "id": "HFepkYC7ZsSI",
        "colab_type": "code",
        "colab": {
          "base_uri": "https://localhost:8080/",
          "height": 34
        },
        "outputId": "9290ad53-4cbe-4808-e2d7-c84af6aa60d2"
      },
      "source": [
        "# Add new entry\n",
        "\n",
        "dict1['pop'] ='Selena'\n",
        "print(dict1)"
      ],
      "execution_count": 119,
      "outputs": [
        {
          "output_type": "stream",
          "text": [
            "{'rock': 2, 'electronic': 3, 'regueton': 'music', 'pop': 'Selena'}\n"
          ],
          "name": "stdout"
        }
      ]
    },
    {
      "cell_type": "code",
      "metadata": {
        "id": "SdY4PFX8aFG5",
        "colab_type": "code",
        "colab": {
          "base_uri": "https://localhost:8080/",
          "height": 51
        },
        "outputId": "a5c10476-0cc5-4688-dcab-1c96d1ea4cd3"
      },
      "source": [
        "# Remove entry\n",
        "\n",
        "del(dict1['pop'])\n",
        "print(dict1)\n",
        "print('pop' in dict1)"
      ],
      "execution_count": 120,
      "outputs": [
        {
          "output_type": "stream",
          "text": [
            "{'rock': 2, 'electronic': 3, 'regueton': 'music'}\n",
            "False\n"
          ],
          "name": "stdout"
        }
      ]
    },
    {
      "cell_type": "code",
      "metadata": {
        "id": "IFb4N5_6aPtI",
        "colab_type": "code",
        "colab": {
          "base_uri": "https://localhost:8080/",
          "height": 51
        },
        "outputId": "2fad641f-221a-4ade-b331-4a1339dbc7ea"
      },
      "source": [
        "print('keys: ', dict1.keys())\n",
        "print('values: ', dict1.values())"
      ],
      "execution_count": 123,
      "outputs": [
        {
          "output_type": "stream",
          "text": [
            "keys:  dict_keys(['rock', 'electronic', 'regueton'])\n",
            "values:  dict_values([2, 3, 'music'])\n"
          ],
          "name": "stdout"
        }
      ]
    },
    {
      "cell_type": "code",
      "metadata": {
        "id": "vG1n1RITa7KT",
        "colab_type": "code",
        "colab": {}
      },
      "source": [
        "Dict={\"A\":1,\"B\":\"2\",\"C\":[3,3,3],\"D\":(4,4,4),'E':5,'F':6}\n"
      ],
      "execution_count": 124,
      "outputs": []
    }
  ]
}